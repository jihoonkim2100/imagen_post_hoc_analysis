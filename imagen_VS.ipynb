{
 "cells": [
  {
   "cell_type": "markdown",
   "metadata": {},
   "source": [
    "# Posthoc Analysis of IMAGEN:\n",
    "The preliminary results in our IMAGEN paper advocates for a more in-depth understanding of what contributes to the significant performance of the ML models for the three time-points: <br>\n",
    "<li>Baseline (<b>BL</b>): Age <tr> <b>14</b></li>\n",
    "<li>Follow 1 year (<b>FU1</b>): Age <b>16</b></li>\n",
    "<li>Follow 2 year (<b>FU2</b>): Age <b>19</b></li>\n",
    "<li>Follow 3 year (<b>FU3</b>): Age <b>22</b></li>\n",
    "\n",
    "<br>\n",
    "Such in-depth understanding can be achieved by performing follow-up analysis:"
   ]
  },
  {
   "cell_type": "code",
   "execution_count": 1,
   "metadata": {},
   "outputs": [],
   "source": [
    "import math\n",
    "import time\n",
    "import multiprocessing\n",
    "from plot_results_posthoc import *"
   ]
  },
  {
   "cell_type": "code",
   "execution_count": 2,
   "metadata": {},
   "outputs": [],
   "source": [
    "num_cores = multiprocessing.cpu_count()\n",
    "# print(f'Available CPU cores: {num_cores}')\n",
    "num_cores = math.floor(num_cores/6)\n",
    "# print(f'Set CPU cores: {num_cores}')"
   ]
  },
  {
   "cell_type": "code",
   "execution_count": 3,
   "metadata": {},
   "outputs": [],
   "source": [
    "DATA_DIR = \"/ritter/share/data/IMAGEN\"\n",
    "SHAP = SHAP_visualization()"
   ]
  },
  {
   "cell_type": "markdown",
   "metadata": {},
   "source": [
    "# 4. Visualization SHAP\n",
    "## 4.1. SHAP values"
   ]
  },
  {
   "cell_type": "markdown",
   "metadata": {},
   "source": [
    "### 4.1.1. Load the data and model"
   ]
  },
  {
   "cell_type": "markdown",
   "metadata": {},
   "source": [
    "<b> Load the model </b>"
   ]
  },
  {
   "cell_type": "code",
   "execution_count": 4,
   "metadata": {},
   "outputs": [],
   "source": [
    "MODELS = SHAP.get_model(\"../results/newlbls-fu3-espad-fu3-19a-binge-*/*/\")"
   ]
  },
  {
   "cell_type": "markdown",
   "metadata": {},
   "source": [
    "<b> Load the data </b>"
   ]
  },
  {
   "cell_type": "code",
   "execution_count": 5,
   "metadata": {},
   "outputs": [
    {
     "name": "stdout",
     "output_type": "stream",
     "text": [
      "<KeysViewHDF5 ['Binge', 'X', 'i', 'sex', 'site']> <KeysViewHDF5 ['X_col_names', 'confs', 'labels']>\n",
      "<KeysViewHDF5 ['Binge', 'X', 'i', 'sex', 'site']> <KeysViewHDF5 ['X_col_names', 'confs', 'labels']>\n"
     ]
    }
   ],
   "source": [
    "train_dir = \"/ritter/share/data/IMAGEN/h5files/newlbls-fu3-espad-fu3-19a-binge-n650.h5\"\n",
    "holdout_dir = \"/ritter/share/data/IMAGEN/h5files/newholdout-fu3-espad-fu3-19a-binge-n102.h5\"\n",
    "\n",
    "# load the training data\n",
    "tr_X, tr_X_col_names, tr_list = SHAP.get_train_data(train_dir, group=True)\n",
    "# print(f\"Training dataset: {tr_X.shape}, {len(tr_X_col_names)}, {tr_list[0].shape}\")\n",
    "# load the holdout data\n",
    "ho_X, ho_X_col_names, ho_list = SHAP.get_holdout_data(holdout_dir, group=True)\n",
    "# print(f\"Holdout dataset: {ho_X.shape}, {len(ho_X_col_names)}, {ho_list[0].shape}\")"
   ]
  },
  {
   "cell_type": "markdown",
   "metadata": {},
   "source": [
    "<b> Get the SHAP input list </b>"
   ]
  },
  {
   "cell_type": "code",
   "execution_count": 6,
   "metadata": {},
   "outputs": [],
   "source": [
    "# # DUMMY (N=3) FOR PLAYGROUND\n",
    "# tr_X = tr_X[0:3]\n",
    "# ho_X = ho_X[0:3]"
   ]
  },
  {
   "cell_type": "code",
   "execution_count": 7,
   "metadata": {},
   "outputs": [],
   "source": [
    "# generate the SHAP input list of the training\n",
    "tr_INPUT = SHAP.get_list(MODELS, tr_X)\n",
    "# generate the SHAP input list of the holdout\n",
    "ho_INPUT = SHAP.get_list(MODELS, ho_X)\n",
    "# print(f\"Number of training set: {len(tr_INPUT)}\\n\\n\" # , One example: {tr_INPUT[0:1]}\\n\\n\"\n",
    "#       f\"Number of holdout set: {len(ho_INPUT)}\") # , One example: {tr_INPUT[0:1]}\")"
   ]
  },
  {
   "cell_type": "markdown",
   "metadata": {},
   "source": [
    "### 4.1.2. Get the shap value"
   ]
  },
  {
   "cell_type": "markdown",
   "metadata": {},
   "source": [
    "<b> One by one"
   ]
  },
  {
   "cell_type": "code",
   "execution_count": 8,
   "metadata": {},
   "outputs": [],
   "source": [
    "# # One by one\n",
    "# INPUT = tr_INPUT[0]\n",
    "# start_time = time.time()\n",
    "# _ = SHAP.to_SHAP(INPUT)\n",
    "# print(\"--- %s seconds ---\" % (time.time() - start_time))"
   ]
  },
  {
   "cell_type": "markdown",
   "metadata": {},
   "source": [
    "<b> Multi processing </b>"
   ]
  },
  {
   "cell_type": "code",
   "execution_count": null,
   "metadata": {},
   "outputs": [
    {
     "name": "stderr",
     "output_type": "stream",
     "text": [
      "Permutation explainer: 103it [56:01, 32.64s/it]                         t]\n",
      "Permutation explainer: 103it [56:15, 32.78s/it]                         \n",
      "Permutation explainer: 103it [56:20, 32.82s/it]                         \n",
      "Permutation explainer: 103it [56:22, 32.84s/it]                         \n",
      "Permutation explainer: 103it [56:39, 33.01s/it]                         \n",
      "Permutation explainer: 103it [56:43, 33.05s/it]                         \n",
      "Permutation explainer: 103it [56:59, 33.20s/it]                         \n",
      "Permutation explainer:  75%|███████▌  | 77/102 [2:52:37<57:22, 137.71s/it]  "
     ]
    }
   ],
   "source": [
    "# Multi processing\n",
    "INPUT = ho_INPUT[14:]\n",
    "start_time = time.time()\n",
    "_ = parmap.map(SHAP.to_SHAP, INPUT, pm_pbar=True, pm_processes=num_cores)\n",
    "print(\"--- %s seconds ---\" % (time.time() - start_time))"
   ]
  },
  {
   "cell_type": "markdown",
   "metadata": {},
   "source": [
    "### 4.1.3. Get the plot"
   ]
  },
  {
   "cell_type": "markdown",
   "metadata": {},
   "source": [
    "<b> Load the dataset </b>"
   ]
  },
  {
   "cell_type": "code",
   "execution_count": null,
   "metadata": {},
   "outputs": [],
   "source": [
    "# with open('explainers/SVM-rbf0_holdout_shap.sav', 'rb') as fp:\n",
    "#     load_shap_values = pickle.load(fp)\n",
    "# if not os.path.isdir(\"figures\"):\n",
    "#     os.makedirs(\"figures\")"
   ]
  },
  {
   "cell_type": "code",
   "execution_count": null,
   "metadata": {},
   "outputs": [],
   "source": [
    "# MODEL = [\"SVM-RBF\"]"
   ]
  },
  {
   "cell_type": "markdown",
   "metadata": {},
   "source": [
    "<b> ROI 01: summary bar plot of feature importnace </b>"
   ]
  },
  {
   "cell_type": "code",
   "execution_count": null,
   "metadata": {},
   "outputs": [],
   "source": [
    "# X = ho_X\n",
    "# X_col_names = ho_X_col_names"
   ]
  },
  {
   "cell_type": "code",
   "execution_count": null,
   "metadata": {},
   "outputs": [],
   "source": [
    "# for model_name in MODELS:\n",
    "#     if ( model_name.upper() not in MODEL):\n",
    "#         print(\"skipping model {}\".format(model_name))\n",
    "#         continue\n",
    "#     print(\"generating SHAP values for model = {} ..\".format(model_name))\n",
    "#     for i, model in enumerate(MODELS[model_name]):\n",
    "#         if i!=0:\n",
    "#             print(\"Skipping model '{}': {}' as it is taking too long\".format(model_name, i))\n",
    "#             continue\n",
    "#         if i==0:\n",
    "#             # 1. summary bar plot of feature importnace\n",
    "#             shap.summary_plot(load_shap_values, features=X, feature_names=X_col_names, plot_type=\"bar\", show=False)\n",
    "#             plt.title(model_name+\": \"+str(i))\n",
    "#             plt.savefig(f\"figures/{model_name}{i}_holdout_bar.pdf\", bbox_inches='tight')"
   ]
  },
  {
   "cell_type": "markdown",
   "metadata": {},
   "source": [
    "<b> ROI 02: swarm plot showing shap values vs feature values ordered by feature importance </b>"
   ]
  },
  {
   "cell_type": "code",
   "execution_count": null,
   "metadata": {},
   "outputs": [],
   "source": [
    "# X = ho_X\n",
    "# X_col_names = ho_X_col_names"
   ]
  },
  {
   "cell_type": "code",
   "execution_count": null,
   "metadata": {},
   "outputs": [],
   "source": [
    "# for model_name in MODELS:\n",
    "#     if ( model_name.upper() not in MODEL):\n",
    "#         print(\"skipping model {}\".format(model_name))\n",
    "#         continue\n",
    "#     print(\"generating SHAP values for model = {} ..\".format(model_name))\n",
    "#     for i, model in enumerate(MODELS[model_name]):\n",
    "#         if i!=0:\n",
    "#             print(\"Skipping model '{}': {}' as it is taking too long\".format(model_name, i))\n",
    "#             continue\n",
    "#         if i==0:\n",
    "#             # 2. swarm plot showing shap values vs feature values ordered by feature importance\n",
    "#             shap.summary_plot(load_shap_values, features=X, feature_names=X_col_names, plot_type=\"dot\", show=False)\n",
    "#             plt.title(model_name+\": \"+str(i))\n",
    "#             plt.savefig(f\"figures/{model_name}{i}_holdout_swarm.pdf\", bbox_inches='tight')"
   ]
  },
  {
   "cell_type": "markdown",
   "metadata": {},
   "source": [
    "<b> ROI 03: sex difference plot showing shap values vs feature values ordered by feature importance </b>"
   ]
  },
  {
   "cell_type": "code",
   "execution_count": null,
   "metadata": {},
   "outputs": [],
   "source": [
    "# X_col_names = ho_X_col_names\n",
    "# sex_mask = ho_list[0].astype(bool)"
   ]
  },
  {
   "cell_type": "code",
   "execution_count": null,
   "metadata": {},
   "outputs": [],
   "source": [
    "# for model_name in MODELS:\n",
    "#     if ( model_name.upper() not in MODEL):\n",
    "#         print(\"skipping model {}\".format(model_name))\n",
    "#         continue\n",
    "#     print(\"generating SHAP values for model = {} ..\".format(model_name))\n",
    "#     for i, model in enumerate(MODELS[model_name]):\n",
    "#         if i!=0:\n",
    "#             print(\"Skipping model '{}': {}' as it is taking too long\".format(model_name, i))\n",
    "#             continue\n",
    "#         if i==0:\n",
    "#             # 3. sex difference plot\n",
    "#             shap.group_difference_plot(load_shap_values.values, group_mask=sex_mask, feature_names=X_col_names, show=False, max_display=10)\n",
    "#             plt.title(model_name+\":\"+str(i))\n",
    "#             # plt.savefig(\"figrues/{}_bar-sexdiff.pdf\".format(model_name+str(i)), bbox_inches='tight')\n",
    "#             plt.savefig(f\"figures/{model_name}{i}_holdout_bar-sexdiff.pdf\", bbox_inches='tight')"
   ]
  },
  {
   "cell_type": "markdown",
   "metadata": {},
   "source": [
    "<b> ROI 03: class difference plot showing shap values vs feature values ordered by feature importance </b>"
   ]
  },
  {
   "cell_type": "code",
   "execution_count": null,
   "metadata": {},
   "outputs": [],
   "source": [
    "# X_col_names = ho_X_col_names\n",
    "# class_mask = ho_list[1].astype(bool)"
   ]
  },
  {
   "cell_type": "code",
   "execution_count": null,
   "metadata": {},
   "outputs": [],
   "source": [
    "# for model_name in MODELS:\n",
    "#     if ( model_name.upper() not in MODEL):\n",
    "#         print(\"skipping model {}\".format(model_name))\n",
    "#         continue\n",
    "#     print(\"generating SHAP values for model = {} ..\".format(model_name))\n",
    "#     for i, model in enumerate(MODELS[model_name]):\n",
    "#         if i!=0:\n",
    "#             print(\"Skipping model '{}': {}' as it is taking too long\".format(model_name, i))\n",
    "#             continue\n",
    "#         if i==0:\n",
    "#             # 3. sex difference plot\n",
    "#             shap.group_difference_plot(load_shap_values.values, group_mask=class_mask, feature_names=X_col_names, show=False, max_display=10)\n",
    "#             plt.title(model_name+\":\"+str(i))\n",
    "#             # plt.savefig(\"figrues/{}_bar-sexdiff.pdf\".format(model_name+str(i)), bbox_inches='tight')\n",
    "#             plt.savefig(f\"figures/{model_name}{i}_holdout_bar-classdiff.pdf\", bbox_inches='tight')"
   ]
  },
  {
   "cell_type": "code",
   "execution_count": null,
   "metadata": {},
   "outputs": [],
   "source": []
  }
 ],
 "metadata": {
  "kernelspec": {
   "display_name": "Python 3",
   "language": "python",
   "name": "python3"
  },
  "language_info": {
   "codemirror_mode": {
    "name": "ipython",
    "version": 3
   },
   "file_extension": ".py",
   "mimetype": "text/x-python",
   "name": "python",
   "nbconvert_exporter": "python",
   "pygments_lexer": "ipython3",
   "version": "3.8.3"
  }
 },
 "nbformat": 4,
 "nbformat_minor": 4
}
