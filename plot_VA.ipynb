{
 "cells": [
  {
   "cell_type": "markdown",
   "metadata": {},
   "source": [
    "# Posthoc Analysis of IMAGEN:\n",
    "The preliminary results in our IMAGEN paper advocates for a more in-depth understanding of what contributes to the significant performance of the ML models for the three time-points: <br>\n",
    "<li>Baseline (<b>BL</b>): Age <tr> <b>14</b></li>\n",
    "<li>Follow 1 year (<b>FU1</b>): Age <b>16</b></li>\n",
    "<li>Follow 2 year (<b>FU2</b>): Age <b>19</b></li>\n",
    "<li>Follow 3 year (<b>FU3</b>): Age <b>22</b></li>\n",
    "\n",
    "<br>\n",
    "Such in-depth understanding can be achieved by performing follow-up analysis:"
   ]
  },
  {
   "cell_type": "markdown",
   "metadata": {},
   "source": [
    "1. Summary statistics\n",
    "2. Sensitivity analysis\n",
    "3. Error analysis\n",
    "4. Visualization SHAP"
   ]
  },
  {
   "cell_type": "markdown",
   "metadata": {},
   "source": [
    "# 4. Visualization SHAP\n",
    "## 4.1. SHAP values\n",
    " 1. what is the best/fastest estimator for my 4 models?\n",
    " 2. how to save and load SHAP values?\n",
    " 3. What to visualize?"
   ]
  },
  {
   "cell_type": "code",
   "execution_count": null,
   "metadata": {},
   "outputs": [
    {
     "name": "stdout",
     "output_type": "stream",
     "text": [
      "Trying to unpickle estimator VarianceThreshold from version 0.24.1 when using version 0.24.2. This might lead to breaking code or invalid results. Use at your own risk.\n",
      "Trying to unpickle estimator StandardScaler from version 0.24.1 when using version 0.24.2. This might lead to breaking code or invalid results. Use at your own risk.\n",
      "Trying to unpickle estimator SVC from version 0.24.1 when using version 0.24.2. This might lead to breaking code or invalid results. Use at your own risk.\n",
      "Trying to unpickle estimator VarianceThreshold from version 0.24.1 when using version 0.24.2. This might lead to breaking code or invalid results. Use at your own risk.\n",
      "Trying to unpickle estimator StandardScaler from version 0.24.1 when using version 0.24.2. This might lead to breaking code or invalid results. Use at your own risk.\n",
      "Trying to unpickle estimator LogisticRegression from version 0.24.1 when using version 0.24.2. This might lead to breaking code or invalid results. Use at your own risk.\n",
      "generating SHAP values for model = SVM-rbf ..\n",
      "Pipeline(steps=[('varth', VarianceThreshold()), ('scale', StandardScaler()),\n",
      "                ('conf_corr_cb',\n",
      "                 CounterBalance(oversample=True, random_state=17)),\n",
      "                ('model_SVM-rbf', SVC(gamma='auto', probability=True))])\n"
     ]
    }
   ],
   "source": [
    "!python imagen_shap_visualization.py"
   ]
  },
  {
   "cell_type": "code",
   "execution_count": null,
   "metadata": {},
   "outputs": [],
   "source": [
    "%load_ext autoreload\n",
    "%autoreload 2\n",
    "import pandas as pd \n",
    "import numpy as np\n",
    "from glob import glob\n",
    "from os.path import join \n",
    "import os \n",
    "from scikits.bootstrap import ci\n",
    "import matplotlib.pyplot as plt\n",
    "import seaborn as sns\n",
    "sns.set_style(\"darkgrid\")\n",
    "\n",
    "from plotResults import *"
   ]
  },
  {
   "cell_type": "code",
   "execution_count": null,
   "metadata": {},
   "outputs": [],
   "source": [
    "#################################################################################\n",
    "models_dir = sorted(glob(\"results/newlbls-fu3-espad-fu3-19a-binge-*/*/\"))[-1]\n",
    "models_dir"
   ]
  },
  {
   "cell_type": "code",
   "execution_count": null,
   "metadata": {},
   "outputs": [],
   "source": [
    "import shap"
   ]
  },
  {
   "cell_type": "code",
   "execution_count": null,
   "metadata": {},
   "outputs": [],
   "source": [
    "from joblib import load \n",
    "\n",
    "models = {}\n",
    "model_names = list(set([f.split(\"_\")[0] for f in os.listdir(models_dir) if f.split(\".\")[-1]==\"model\"]))"
   ]
  },
  {
   "cell_type": "code",
   "execution_count": null,
   "metadata": {},
   "outputs": [],
   "source": [
    "model_names"
   ]
  },
  {
   "cell_type": "code",
   "execution_count": null,
   "metadata": {},
   "outputs": [],
   "source": [
    "# load all trained models\n",
    "from joblib import load \n",
    "\n",
    "models = {}\n",
    "model_names = list(set([f.split(\"_\")[0] for f in os.listdir(models_dir) if f.split(\".\")[-1]==\"model\"]))\n",
    "for model_name in model_names:\n",
    "    models.update({model_name: [load(f) for f in glob(models_dir+f\"/{model_name}_*.model\")]})\n",
    "\n",
    "models['LR'][0]"
   ]
  },
  {
   "cell_type": "code",
   "execution_count": null,
   "metadata": {},
   "outputs": [],
   "source": [
    "# load the training data\n",
    "import h5py\n",
    "\n",
    "h5_dir = \"/ritter/share/data/IMAGEN/h5files/\" + models_dir.split(\"/\")[-3] + \".h5\"\n",
    "data = h5py.File(h5_dir, 'r')\n",
    "data.keys(), data.attrs.keys()"
   ]
  },
  {
   "cell_type": "code",
   "execution_count": null,
   "metadata": {},
   "outputs": [],
   "source": [
    "X = data['X'][()]\n",
    "y = data[data.attrs['labels'][0]][()]\n",
    "X_col_names = data.attrs['X_col_names'][()]\n",
    "\n",
    "X100 = shap.utils.sample(X, 100) # 100 instances for use as the background distribution\n",
    "\n",
    "X.shape, y.shape, len(X_col_names)"
   ]
  },
  {
   "cell_type": "code",
   "execution_count": null,
   "metadata": {},
   "outputs": [],
   "source": [
    "# load the holdout data\n"
   ]
  },
  {
   "cell_type": "code",
   "execution_count": null,
   "metadata": {},
   "outputs": [],
   "source": [
    "shap_values_stored = {}\n",
    "\n",
    "for model_name in models:\n",
    "    print(\"generating SHAP plots for model = {} ..\".format(model_name))\n",
    "    if \"GB\" not in model_name:\n",
    "        print(\"skipping model {} as it takes too long\".format(model_name))\n",
    "        continue\n",
    "    for i, model in enumerate(models[model_name]):\n",
    "        print(model)\n",
    "        explainer = shap.Explainer(model.predict, X100, output_names=[\"Healthy\",\"AUD-risk\"])\n",
    "        shap_values = explainer(X)\n",
    "        shap_values_stored.update({model_name+str(i): shap_values})\n",
    "#         if ('model_LR' in model.steps):\n",
    "#             # plot the coefs of Logistic Regression\n",
    "#             coefs = {}\n",
    "#             for i in range(model['model_LR'].coef_.shape[-1]):\n",
    "#                 coefs.update({X_col_names[i] : model['model_LR'].coef_[0,i].round(4)})\n",
    "#             pd.Series(coefs).sort_values(key=np.abs)[-15:].plot.barh(title=\"Model coefficients:\")\n",
    "#             plt.show()"
   ]
  },
  {
   "cell_type": "code",
   "execution_count": null,
   "metadata": {},
   "outputs": [],
   "source": [
    "for k in shap_values_stored:\n",
    "    shap_values = shap_values_stored[k]\n",
    "    plt.title(k)\n",
    "    shap.summary_plot(shap_values, features=X, feature_names=X_col_names, plot_type=\"bar\")\n",
    "    plt.show()\n",
    "    shap.summary_plot(shap_values, features=X, feature_names=X_col_names, plot_type=\"dot\")\n",
    "    plt.show() #plt.savefig(\"viz/{}_{}_dot.pdf\".format(model_name,str(i)))\n",
    "    shap.group_difference_plot(shap_values.values, group_mask=data['sex'][()].astype(bool), \n",
    "                       feature_names=X_col_names, max_display=10)\n",
    "    plt.show() #plt.savefig(\"viz/{}_{}_sexdiff.pdf\".format(model_name,str(i)))"
   ]
  },
  {
   "cell_type": "code",
   "execution_count": null,
   "metadata": {},
   "outputs": [],
   "source": [
    "model = models['GB'][0]"
   ]
  },
  {
   "cell_type": "code",
   "execution_count": null,
   "metadata": {},
   "outputs": [],
   "source": [
    "# compute the SHAP values for the linear model\n",
    "explainer = shap.Explainer(model.predict, X100, output_names=[\"Healthy\",\"AUD-risk\"])"
   ]
  },
  {
   "cell_type": "code",
   "execution_count": null,
   "metadata": {},
   "outputs": [],
   "source": [
    "shap_values = explainer(X)"
   ]
  },
  {
   "cell_type": "code",
   "execution_count": null,
   "metadata": {},
   "outputs": [],
   "source": [
    "# for i, sub in enumerate(shap_values): #.values.shape\n",
    "#     print(\"sub idx={}\".format(i))\n",
    "#     for j, feature in enumerate(sub):\n",
    "#         print(\"feature idx={}\".format(j))\n",
    "#         display(type(feature), feature)\n",
    "        \n",
    "\n",
    "# shap_values[...,0]"
   ]
  },
  {
   "cell_type": "code",
   "execution_count": null,
   "metadata": {},
   "outputs": [],
   "source": [
    "# clustering = shap.utils.hclust(X, y)"
   ]
  },
  {
   "cell_type": "code",
   "execution_count": null,
   "metadata": {},
   "outputs": [],
   "source": [
    "shap.summary_plot(shap_values, features=X, feature_names=X_col_names, plot_type=\"bar\")"
   ]
  },
  {
   "cell_type": "code",
   "execution_count": null,
   "metadata": {},
   "outputs": [],
   "source": [
    "shap.summary_plot(shap_values, features=X, feature_names=X_col_names, plot_type=\"dot\")"
   ]
  },
  {
   "cell_type": "code",
   "execution_count": null,
   "metadata": {},
   "outputs": [],
   "source": [
    "shap.group_difference_plot(shap_values.values, group_mask=data['sex'][()].astype(bool), \n",
    "                           feature_names=X_col_names, max_display=10)"
   ]
  },
  {
   "cell_type": "code",
   "execution_count": null,
   "metadata": {},
   "outputs": [],
   "source": [
    "# individual features\n",
    "# shap.embedding_plot(396, shap_values.values, feature_names=X_col_names)\n",
    "# shap.dependence_plot(ind, shap_values=None, features=None, feature_names=None, display_features=None)\n",
    "# individual subject predictions\n",
    "#  shap.waterfall_plot(shap_values, max_display=10, show=True)"
   ]
  },
  {
   "cell_type": "code",
   "execution_count": null,
   "metadata": {},
   "outputs": [],
   "source": [
    "model = models['LR'][0]\n",
    "# compute the SHAP values for the linear model\n",
    "explainer = shap.Explainer(model.predict, X100, output_names=[\"Healthy\",\"AUD-risk\"], feature_names=X_col_names)"
   ]
  },
  {
   "cell_type": "code",
   "execution_count": null,
   "metadata": {},
   "outputs": [],
   "source": [
    "shap_values_lr = explainer(X)"
   ]
  },
  {
   "cell_type": "code",
   "execution_count": null,
   "metadata": {},
   "outputs": [],
   "source": [
    "# plot the coefs of Logistic Regression\n",
    "coefs = {}\n",
    "\n",
    "for i in range(model['model_LR'].coef_.shape[-1]):\n",
    "    coefs.update({X_col_names[i] : model['model_LR'].coef_[0,i].round(4)})\n",
    "pd.Series(coefs).sort_values(key=np.abs)[-15:].plot.barh(title=\"Model coefficients:\")\n",
    "plt.show()"
   ]
  },
  {
   "cell_type": "code",
   "execution_count": null,
   "metadata": {},
   "outputs": [],
   "source": [
    "shap.summary_plot(shap_values_lr, features=X, feature_names=X_col_names, plot_type=\"bar\")"
   ]
  },
  {
   "cell_type": "code",
   "execution_count": null,
   "metadata": {},
   "outputs": [],
   "source": [
    "shap.summary_plot(shap_values_lr, features=X, feature_names=X_col_names, plot_type=\"dot\")"
   ]
  },
  {
   "cell_type": "code",
   "execution_count": null,
   "metadata": {},
   "outputs": [],
   "source": [
    "shap.group_difference_plot(shap_values_lr.values, group_mask=data['sex'][()].astype(bool), \n",
    "                           feature_names=X_col_names, max_display=10)"
   ]
  },
  {
   "cell_type": "code",
   "execution_count": null,
   "metadata": {},
   "outputs": [],
   "source": [
    "model = models['SVM-rbf'][0]\n",
    "# compute the SHAP values for the linear model\n",
    "explainer = shap.Explainer(model.predict, X100, output_names=[\"Healthy\",\"AUD-risk\"], feature_names=X_col_names)"
   ]
  },
  {
   "cell_type": "code",
   "execution_count": null,
   "metadata": {},
   "outputs": [],
   "source": [
    "shap_values_svmrbf = explainer(X)"
   ]
  },
  {
   "cell_type": "code",
   "execution_count": null,
   "metadata": {},
   "outputs": [],
   "source": [
    "shap.summary_plot(shap_values_svmrbf, features=X, feature_names=X_col_names, plot_type=\"bar\")"
   ]
  },
  {
   "cell_type": "code",
   "execution_count": null,
   "metadata": {},
   "outputs": [],
   "source": [
    "shap.summary_plot(shap_values_svmrbf, features=X, feature_names=X_col_names, plot_type=\"dot\")"
   ]
  },
  {
   "cell_type": "code",
   "execution_count": null,
   "metadata": {},
   "outputs": [],
   "source": [
    "shap.group_difference_plot(shap_values_svmrbf.values, group_mask=data['sex'][()].astype(bool), \n",
    "                           feature_names=X_col_names, max_display=10)"
   ]
  },
  {
   "cell_type": "code",
   "execution_count": null,
   "metadata": {},
   "outputs": [],
   "source": [
    "model = models['SVM-lin'][0]\n",
    "# compute the SHAP values for the linear model\n",
    "explainer = shap.Explainer(model.predict, X100, output_names=[\"Healthy\",\"AUD-risk\"], feature_names=X_col_names)\n",
    "shap_values_svmlin = explainer(X)"
   ]
  },
  {
   "cell_type": "code",
   "execution_count": null,
   "metadata": {},
   "outputs": [],
   "source": [
    "shap.summary_plot(shap_values_svmlin, features=X, feature_names=X_col_names, plot_type=\"bar\")\n",
    "shap.summary_plot(shap_values_svmlin, features=X, feature_names=X_col_names, plot_type=\"dot\")\n",
    "shap.group_difference_plot(shap_values_svmlin.values, group_mask=data['sex'][()].astype(bool), \n",
    "                           feature_names=X_col_names, max_display=10)"
   ]
  },
  {
   "cell_type": "code",
   "execution_count": null,
   "metadata": {},
   "outputs": [],
   "source": []
  }
 ],
 "metadata": {
  "kernelspec": {
   "display_name": "Python 3",
   "language": "python",
   "name": "python3"
  },
  "language_info": {
   "codemirror_mode": {
    "name": "ipython",
    "version": 3
   },
   "file_extension": ".py",
   "mimetype": "text/x-python",
   "name": "python",
   "nbconvert_exporter": "python",
   "pygments_lexer": "ipython3",
   "version": "3.8.3"
  }
 },
 "nbformat": 4,
 "nbformat_minor": 4
}
