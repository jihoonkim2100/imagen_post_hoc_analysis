{
 "cells": [
  {
   "cell_type": "markdown",
   "metadata": {},
   "source": [
    "### Generate the post hoc dataset for analysis"
   ]
  },
  {
   "cell_type": "code",
   "execution_count": 1,
   "metadata": {},
   "outputs": [],
   "source": [
    "from imagen_posthocloader import *"
   ]
  },
  {
   "cell_type": "code",
   "execution_count": 2,
   "metadata": {},
   "outputs": [],
   "source": [
    "DATA_DIR = \"/ritter/share/data/IMAGEN\"\n",
    "posthoc = IMAGEN_posthoc()"
   ]
  },
  {
   "cell_type": "markdown",
   "metadata": {},
   "source": [
    "### 1. Load the [INSTRUMENT](https://imagen-europe.com/resources/imagen-dataset/documentation/) data"
   ]
  },
  {
   "cell_type": "markdown",
   "metadata": {},
   "source": [
    "#### collect the selected instrument files from IMAGEN_RAW and store in posthoc"
   ]
  },
  {
   "cell_type": "markdown",
   "metadata": {},
   "source": [
    "Please refer to <i>set_INSTRUMENT()</i> in <i>imagen_posthocloader.py</i>, and load the file and save it as <b> all_*.csv</b> "
   ]
  },
  {
   "cell_type": "code",
   "execution_count": 3,
   "metadata": {},
   "outputs": [],
   "source": [
    "# Instrument\n",
    "NEO   = posthoc.set_INSTRUMENT('NEO')#, save=True)\n",
    "SURPS = posthoc.set_INSTRUMENT('SURPS')#, save=True)\n",
    "CTQ   = posthoc.set_INSTRUMENT('CTQ')#, save=True)\n",
    "CTS   = posthoc.set_INSTRUMENT('CTS')#, save=True)\n",
    "CTQ_MD = posthoc.set_INSTRUMENT('CTQ_MD')#, save=True)\n",
    "LEQ   = posthoc.set_INSTRUMENT('LEQ')#, save=True)\n",
    "PBQ   = posthoc.set_INSTRUMENT('PBQ')#, save=True)\n",
    "GEN   = posthoc.set_INSTRUMENT('GEN')#, save=True)\n",
    "FTND  = posthoc.set_INSTRUMENT('FTND')#, save=True)\n",
    "BSI = posthoc.set_INSTRUMENT('BSI')#, save=True)\n",
    "MAST = posthoc.set_INSTRUMENT('MAST')#, save=True)\n",
    "PANAS = posthoc.set_INSTRUMENT('PANAS')#, save=True)\n",
    "TCI = posthoc.set_INSTRUMENT('TCI')#, save=True)"
   ]
  },
  {
   "cell_type": "code",
   "execution_count": 4,
   "metadata": {},
   "outputs": [
    {
     "name": "stdout",
     "output_type": "stream",
     "text": [
      "['Openness mean', 'Conscientiousness mean', 'Extroversion mean', 'Agreeableness mean', 'Neuroticism mean', 'Anxiety Sensitivity mean', 'Hopelessness mean', 'Impulsivity mean', 'Sensation seeking mean', 'Emotional abuse sum', 'Physical abuse sum', 'Sexual abuse sum', 'Emotional neglect sum', 'Physical neglect sum', 'Denial sum', 'MD 1', 'MD 2', 'MD 3', 'Family valence', 'Accident valence', 'Sexuality valence', 'Autonomy valence', 'Devience valence', 'Relocation valence', 'Distress valence', 'Noscale valence', 'Overall valence', 'Family mean frequency', 'Accident mean frequency', 'Sexuality mean frequency', 'Autonomy mean frequency', 'Devience mean frequency', 'Relocation mean frequency', 'Distress mean frequency', 'Noscale mean frequency', 'Overall mean frequency', 'pbq_03', 'pbq_03a', 'pbq_03b', 'pbq_03c', 'pbq_05', 'pbq_05a', 'pbq_05b', 'pbq_05c', 'pbq_06', 'pbq_06a', 'pbq_12', 'pbq_13', 'pbq_13a', 'pbq_13b', 'pbq_13g', 'Paternal_disorder', 'Maternal_disorder', 'Pd_list', 'Md_list', 'Likelihood of nicotine dependence child', 'FTND Sum', 'Somatization mean', 'Obsession-Compulsion mean', 'Interpersonal Sensitivity mean', 'Depression mean', 'Anxiety mean', 'Hostility mean', 'Phobic Anxiety mean', 'Paranoid Ideation mean', 'Psychoticism mean', 'Positive Symptom Distress Index', 'Global Severity Index', 'MAST flag', 'MAST total', 'MAST Alcohol dependency symptoms', 'MAST sum', 'Positive Affect Score', 'Negative Affect Score', 'Exploratory excitability vs. Stoic rigidity', 'Impulsiveness vs. Reflection', 'Extravagance vs. Reserve', 'Disorderliness vs. Regimentation', 'Total Novelty Seeking score']\n"
     ]
    }
   ],
   "source": [
    "# general information of the instrument\n",
    "# selected ROI\n",
    "col_NEO = list(NEO.columns[2:].values)\n",
    "col_SURPS = list(SURPS.columns[2:].values)\n",
    "col_CTQ = list(CTQ.columns[2:].values)\n",
    "col_CTQ_MD = list(CTQ_MD.columns[2:].values)\n",
    "col_CTS = list(CTS.columns[2:].values)\n",
    "col_LEQ = list(LEQ.columns[2:].values)\n",
    "col_PBQ = list(PBQ.columns[2:].values)\n",
    "col_GEN = list(GEN.columns[2:].values)\n",
    "col_FTND = list(FTND.columns[2:].values)\n",
    "col_BSI = list(BSI.columns[2:].values)\n",
    "col_MAST = list(MAST.columns[2:].values)\n",
    "col_PANAS = list(PANAS.columns[2:].values)\n",
    "col_TCI = list(TCI.columns[2:].values)\n",
    "roi_list = col_NEO + col_SURPS + col_CTQ_MD + col_LEQ + \\\n",
    "           col_PBQ + col_GEN + col_FTND + col_BSI + col_MAST + col_PANAS + col_TCI\n",
    "print(roi_list)"
   ]
  },
  {
   "cell_type": "markdown",
   "metadata": {},
   "source": [
    "### 2. Load the HDF5 data"
   ]
  },
  {
   "cell_type": "markdown",
   "metadata": {},
   "source": [
    "#### collect the HDF5 files from h5files and save in posthoc"
   ]
  },
  {
   "cell_type": "markdown",
   "metadata": {},
   "source": [
    "Please refer to <i>set_HDF5()</i> in <i>imagen_posthocloader.py</i>, and load the file and save it as <b> all_*.csv</b>"
   ]
  },
  {
   "cell_type": "code",
   "execution_count": null,
   "metadata": {},
   "outputs": [],
   "source": [
    "# Hdf5\n",
    "BINGE = posthoc.set_HDF5('Binge')#, save=True)"
   ]
  },
  {
   "cell_type": "code",
   "execution_count": null,
   "metadata": {},
   "outputs": [],
   "source": [
    "# general information of the hdf5\n",
    "BINGE.columns"
   ]
  },
  {
   "cell_type": "markdown",
   "metadata": {},
   "source": [
    "### 3. Load the RUN data"
   ]
  },
  {
   "cell_type": "markdown",
   "metadata": {},
   "source": [
    "#### collect the RUN file from results and save in posthoc"
   ]
  },
  {
   "cell_type": "markdown",
   "metadata": {},
   "source": [
    "Please refer to <i>set_RUN()</i> in <i>imagen_posthocloader.py</i>, and load the file and save it as <b> all_*.csv</b>"
   ]
  },
  {
   "cell_type": "code",
   "execution_count": null,
   "metadata": {},
   "outputs": [],
   "source": [
    "# RUN\n",
    "RUN = posthoc.set_RUN('../../results/holdout_all-tp-clean_run.csv')#, save=True)"
   ]
  },
  {
   "cell_type": "code",
   "execution_count": null,
   "metadata": {},
   "outputs": [],
   "source": [
    "# general infromation of the hdf5\n",
    "RUN.columns"
   ]
  },
  {
   "cell_type": "markdown",
   "metadata": {},
   "source": [
    "### 4. Save the INSTRUMENT data"
   ]
  },
  {
   "cell_type": "markdown",
   "metadata": {},
   "source": [
    "#### collect the instrument files from posthoc into one file"
   ]
  },
  {
   "cell_type": "markdown",
   "metadata": {},
   "source": [
    "Please refer to <i>to_INSTRUMENT()</i> in <i>imagen_posthocloader.py</i>, and load the file"
   ]
  },
  {
   "cell_type": "code",
   "execution_count": null,
   "metadata": {},
   "outputs": [],
   "source": [
    "# collect the instrument file \n",
    "inst_list = [NEO, SURPS,CTQ, CTS, LEQ, PBQ, GEN,FTND]\n",
    "# save the instrument file\n",
    "INST = posthoc.to_INSTRUMENT(inst_list)#, save=True)"
   ]
  },
  {
   "cell_type": "code",
   "execution_count": null,
   "metadata": {},
   "outputs": [],
   "source": [
    "# general information of the instrument\n",
    "# selected ROI\n",
    "col_INST = list(INST.columns[2:].values)\n",
    "print(col_INST)"
   ]
  },
  {
   "cell_type": "markdown",
   "metadata": {},
   "source": [
    "### 5. Read the INSTRUMENT data"
   ]
  },
  {
   "cell_type": "markdown",
   "metadata": {},
   "source": [
    "#### read the instrument files from posthoc into one file"
   ]
  },
  {
   "cell_type": "markdown",
   "metadata": {},
   "source": [
    "Please refer to <i>read_INSTRUMENT()</i> in <i>imagen_posthocloader.py</i>, and load the file"
   ]
  },
  {
   "cell_type": "code",
   "execution_count": null,
   "metadata": {},
   "outputs": [],
   "source": [
    "INST = posthoc.read_INSTRUMENT('IMAGEN_INSTRUMENT.csv')"
   ]
  },
  {
   "cell_type": "code",
   "execution_count": null,
   "metadata": {},
   "outputs": [],
   "source": [
    "# general information of the instrument\n",
    "INST.columns"
   ]
  },
  {
   "cell_type": "markdown",
   "metadata": {},
   "source": [
    "### 6. Read the HDF5 data"
   ]
  },
  {
   "cell_type": "markdown",
   "metadata": {},
   "source": [
    "#### collect the hdf5 files from posthoc into one file"
   ]
  },
  {
   "cell_type": "markdown",
   "metadata": {},
   "source": [
    "Please refer to <i>to_HDF5()</i> in <i>imagen_posthocloader.py</i>, and load the file and save it as <b> all_*.csv</b>"
   ]
  },
  {
   "cell_type": "code",
   "execution_count": null,
   "metadata": {},
   "outputs": [],
   "source": [
    "HDF5 = posthoc.to_HDF5('all_Binge.csv')#, save=True)"
   ]
  },
  {
   "cell_type": "markdown",
   "metadata": {},
   "source": [
    "#### read the HDF5 files from posthoc into one file"
   ]
  },
  {
   "cell_type": "markdown",
   "metadata": {},
   "source": [
    "Please refer to <i>read_HDF5()</i> in <i>imagen_posthocloader.py</i>, and load the file</b>"
   ]
  },
  {
   "cell_type": "code",
   "execution_count": null,
   "metadata": {},
   "outputs": [],
   "source": [
    "HDF5 = posthoc.read_HDF5('IMAGEN_HDF5.csv')"
   ]
  },
  {
   "cell_type": "code",
   "execution_count": null,
   "metadata": {},
   "outputs": [],
   "source": [
    "# general information of the hdf5\n",
    "HDF5.columns"
   ]
  },
  {
   "cell_type": "markdown",
   "metadata": {},
   "source": [
    "### 7. Read the RUN data"
   ]
  },
  {
   "cell_type": "markdown",
   "metadata": {},
   "source": [
    "#### select the ROI of the RUN file from posthoc into one file"
   ]
  },
  {
   "cell_type": "markdown",
   "metadata": {},
   "source": [
    "Please refer to <i>to_RUN()</i> in <i>imagen_posthocloader.py</i>, and load the file and save it as <b> all_*.csv</b>"
   ]
  },
  {
   "cell_type": "code",
   "execution_count": null,
   "metadata": {},
   "outputs": [],
   "source": [
    "RUN.columns"
   ]
  },
  {
   "cell_type": "code",
   "execution_count": null,
   "metadata": {},
   "outputs": [],
   "source": [
    "COL = ['ID','Session','Trial','dataset','io','technique','Model',\n",
    "       'TP prob','TN prob','FP prob','FN prob','T prob','F prob','Prob',\n",
    "       'Predict TF','Model PN','Label PN','true_label','prediction']"
   ]
  },
  {
   "cell_type": "code",
   "execution_count": null,
   "metadata": {},
   "outputs": [],
   "source": [
    "RUN = posthoc.to_RUN('all_RUN.csv', COL)#, save = True)"
   ]
  },
  {
   "cell_type": "code",
   "execution_count": null,
   "metadata": {},
   "outputs": [],
   "source": [
    "# general information of the run\n",
    "RUN.columns"
   ]
  },
  {
   "cell_type": "markdown",
   "metadata": {},
   "source": [
    "#### read the RUN files from posthoc into one file"
   ]
  },
  {
   "cell_type": "markdown",
   "metadata": {},
   "source": [
    "Please refer to <i>read_RUN()</i> in <i>imagen_posthocloader.py</i>, and load the file"
   ]
  },
  {
   "cell_type": "code",
   "execution_count": null,
   "metadata": {},
   "outputs": [],
   "source": [
    "RUN = posthoc.read_RUN('IMAGEN_RUN.csv')"
   ]
  },
  {
   "cell_type": "code",
   "execution_count": null,
   "metadata": {},
   "outputs": [],
   "source": [
    "# general information of the run\n",
    "RUN.columns"
   ]
  },
  {
   "cell_type": "markdown",
   "metadata": {},
   "source": [
    "### 8. Save the post hoc dataset"
   ]
  },
  {
   "cell_type": "markdown",
   "metadata": {},
   "source": [
    "#### set the dataset for analysis of diagnosis (X:FU3 == y:FU3)"
   ]
  },
  {
   "cell_type": "markdown",
   "metadata": {},
   "source": [
    "Please refer to <i>to_posthoc()</i> in <i>imagen_posthocloader.py</i>, and load the file and save it as <b> all_*.csv</b>"
   ]
  },
  {
   "cell_type": "code",
   "execution_count": null,
   "metadata": {},
   "outputs": [],
   "source": [
    "DATA = ['IMAGEN_HDF5.csv', 'IMAGEN_INSTRUMENT.csv', 'IMAGEN_RUN.csv']\n",
    "FU3 = posthoc.to_posthoc(DATA)#, save=True)"
   ]
  },
  {
   "cell_type": "code",
   "execution_count": null,
   "metadata": {},
   "outputs": [],
   "source": [
    "# general information of the instrument\n",
    "FU3.columns"
   ]
  },
  {
   "cell_type": "code",
   "execution_count": null,
   "metadata": {},
   "outputs": [],
   "source": [
    "FU3.iloc[1000]"
   ]
  },
  {
   "cell_type": "markdown",
   "metadata": {},
   "source": [
    "#### set the dataset for analysis of prognosis (X:FU3 != y:FU3)"
   ]
  },
  {
   "cell_type": "markdown",
   "metadata": {},
   "source": [
    "Please refer to <i>read_posthoc()</i> in <i>imagen_posthocloader.py</i>, and load the file"
   ]
  },
  {
   "cell_type": "code",
   "execution_count": null,
   "metadata": {},
   "outputs": [],
   "source": [
    "FU3 = posthoc.read_posthoc('IMAGEN_posthoc.csv')"
   ]
  },
  {
   "cell_type": "code",
   "execution_count": null,
   "metadata": {},
   "outputs": [],
   "source": [
    "FU3.groupby('Dataset').get_group('Holdout')"
   ]
  },
  {
   "cell_type": "code",
   "execution_count": null,
   "metadata": {},
   "outputs": [],
   "source": [
    "FU3.info()"
   ]
  },
  {
   "cell_type": "code",
   "execution_count": null,
   "metadata": {},
   "outputs": [],
   "source": [
    "# general information of the instrument\n",
    "print(list(FU3.columns))"
   ]
  },
  {
   "cell_type": "code",
   "execution_count": null,
   "metadata": {},
   "outputs": [],
   "source": [
    "print(FU3.iloc[1000])"
   ]
  },
  {
   "cell_type": "markdown",
   "metadata": {},
   "source": [
    "### 9. Save the mean|SHAP| value"
   ]
  },
  {
   "cell_type": "markdown",
   "metadata": {},
   "source": [
    "CAUTION: Generating SHAP value is needed in advance"
   ]
  },
  {
   "cell_type": "markdown",
   "metadata": {},
   "source": [
    "#### load the SHAP"
   ]
  },
  {
   "cell_type": "markdown",
   "metadata": {},
   "source": [
    "Please refer to <i>load_SHAP()</i> in <i>imagen_posthocloader.py</i>, and load the file"
   ]
  },
  {
   "cell_type": "code",
   "execution_count": 1,
   "metadata": {},
   "outputs": [],
   "source": [
    "from plot_results_posthoc import *"
   ]
  },
  {
   "cell_type": "code",
   "execution_count": 2,
   "metadata": {},
   "outputs": [],
   "source": [
    "DATA_DIR = \"/ritter/share/data/IMAGEN\"\n",
    "SHAP = SHAP_visualization()"
   ]
  },
  {
   "cell_type": "code",
   "execution_count": 4,
   "metadata": {},
   "outputs": [],
   "source": [
    "# load the SHAP value\n",
    "# GB\n",
    "mean_GB0 = SHAP.load_SHAP(\"GB0_multi.sav\")\n",
    "mean_GB1 = SHAP.load_SHAP(\"GB1_multi.sav\")\n",
    "mean_GB2 = SHAP.load_SHAP(\"GB2_multi.sav\")\n",
    "mean_GB3 = SHAP.load_SHAP(\"GB3_multi.sav\")\n",
    "mean_GB4 = SHAP.load_SHAP(\"GB4_multi.sav\")\n",
    "mean_GB5 = SHAP.load_SHAP(\"GB5_multi.sav\")\n",
    "mean_GB6 = SHAP.load_SHAP(\"GB6_multi.sav\")\n",
    "# LR\n",
    "mean_LR0 = SHAP.load_SHAP(\"LR0_multi.sav\")\n",
    "mean_LR1 = SHAP.load_SHAP(\"LR1_multi.sav\")\n",
    "mean_LR2 = SHAP.load_SHAP(\"LR2_multi.sav\")\n",
    "mean_LR3 = SHAP.load_SHAP(\"LR3_multi.sav\")\n",
    "mean_LR4 = SHAP.load_SHAP(\"LR4_multi.sav\")\n",
    "mean_LR5 = SHAP.load_SHAP(\"LR5_multi.sav\")\n",
    "mean_LR6 = SHAP.load_SHAP(\"LR6_multi.sav\")\n",
    "# SVM-lin\n",
    "mean_SVM_lin0 = SHAP.load_SHAP(\"SVM-lin0_multi.sav\")\n",
    "mean_SVM_lin1 = SHAP.load_SHAP(\"SVM-lin1_multi.sav\")\n",
    "mean_SVM_lin2 = SHAP.load_SHAP(\"SVM-lin2_multi.sav\")\n",
    "mean_SVM_lin3 = SHAP.load_SHAP(\"SVM-lin3_multi.sav\")\n",
    "mean_SVM_lin4 = SHAP.load_SHAP(\"SVM-lin4_multi.sav\")\n",
    "mean_SVM_lin5 = SHAP.load_SHAP(\"SVM-lin5_multi.sav\")\n",
    "mean_SVM_lin6 = SHAP.load_SHAP(\"SVM-lin6_multi.sav\")\n",
    "# SVM-rbf\n",
    "mean_SVM_rbf0 = SHAP.load_SHAP(\"SVM-rbf0_multi.sav\")\n",
    "mean_SVM_rbf1 = SHAP.load_SHAP(\"SVM-rbf1_multi.sav\")\n",
    "mean_SVM_rbf2 = SHAP.load_SHAP(\"SVM-rbf2_multi.sav\")\n",
    "mean_SVM_rbf3 = SHAP.load_SHAP(\"SVM-rbf3_multi.sav\")\n",
    "mean_SVM_rbf4 = SHAP.load_SHAP(\"SVM-rbf4_multi.sav\")\n",
    "mean_SVM_rbf5 = SHAP.load_SHAP(\"SVM-rbf5_multi.sav\")\n",
    "mean_SVM_rbf6 = SHAP.load_SHAP(\"SVM-rbf6_multi.sav\")"
   ]
  },
  {
   "cell_type": "code",
   "execution_count": 7,
   "metadata": {},
   "outputs": [],
   "source": [
    "# load the holdout data\n",
    "holdout_dir = \"newholdout-clean-fu3-espad-fu3-19a-binge-n102.h5\"\n",
    "ho_X, ho_X_col_names, ho_list = SHAP.get_holdout_data(holdout_dir, group=False)\n",
    "# print(f\"Holdout dataset: {ho_X.shape}, {len(ho_X_col_names)}, \"\n",
    "#       f\"{ho_list[0].shape}, {ho_list[1].shape}\")"
   ]
  },
  {
   "cell_type": "code",
   "execution_count": 8,
   "metadata": {},
   "outputs": [],
   "source": [
    "# Save the DF_SHAP\n",
    "DF_SHAP = pd.DataFrame(\n",
    "    {'GB0': mean_GB0,\n",
    "     'GB1': mean_GB1,\n",
    "     'GB2': mean_GB2,\n",
    "     'GB3': mean_GB3,\n",
    "     'GB4': mean_GB4,\n",
    "     'GB5': mean_GB5,\n",
    "     'GB6': mean_GB6,\n",
    "     'LR0': mean_LR0,\n",
    "     'LR1': mean_LR1,\n",
    "     'LR2': mean_LR2,\n",
    "     'LR3': mean_LR3,\n",
    "     'LR4': mean_LR4,\n",
    "     'LR5': mean_LR5,\n",
    "     'LR6': mean_LR6,\n",
    "     'SVM_lin0': mean_SVM_lin0,\n",
    "     'SVM_lin1': mean_SVM_lin1,\n",
    "     'SVM_lin2': mean_SVM_lin2,\n",
    "     'SVM_lin3': mean_SVM_lin3,\n",
    "     'SVM_lin4': mean_SVM_lin4,\n",
    "     'SVM_lin5': mean_SVM_lin5,\n",
    "     'SVM_lin6': mean_SVM_lin6,\n",
    "     'SVM_rbf0': mean_SVM_rbf0,\n",
    "     'SVM_rbf1': mean_SVM_rbf1,\n",
    "     'SVM_rbf2': mean_SVM_rbf2,\n",
    "     'SVM_rbf3': mean_SVM_rbf3,\n",
    "     'SVM_rbf4': mean_SVM_rbf4,\n",
    "     'SVM_rbf5': mean_SVM_rbf5,\n",
    "     'SVM_rbf6': mean_SVM_rbf6,\n",
    "     'Col names': ho_X_col_names}\n",
    ")"
   ]
  },
  {
   "cell_type": "code",
   "execution_count": 13,
   "metadata": {},
   "outputs": [],
   "source": [
    "DF_SHAP.to_csv(\"/ritter/share/data/IMAGEN/posthoc/explainers/all_mean_SHAP.csv\", index=None)"
   ]
  },
  {
   "cell_type": "code",
   "execution_count": 14,
   "metadata": {},
   "outputs": [
    {
     "data": {
      "text/html": [
       "<div>\n",
       "<style scoped>\n",
       "    .dataframe tbody tr th:only-of-type {\n",
       "        vertical-align: middle;\n",
       "    }\n",
       "\n",
       "    .dataframe tbody tr th {\n",
       "        vertical-align: top;\n",
       "    }\n",
       "\n",
       "    .dataframe thead th {\n",
       "        text-align: right;\n",
       "    }\n",
       "</style>\n",
       "<table border=\"1\" class=\"dataframe\">\n",
       "  <thead>\n",
       "    <tr style=\"text-align: right;\">\n",
       "      <th></th>\n",
       "      <th>GB0</th>\n",
       "      <th>GB1</th>\n",
       "      <th>GB2</th>\n",
       "      <th>GB3</th>\n",
       "      <th>GB4</th>\n",
       "      <th>GB5</th>\n",
       "      <th>GB6</th>\n",
       "      <th>LR0</th>\n",
       "      <th>LR1</th>\n",
       "      <th>LR2</th>\n",
       "      <th>...</th>\n",
       "      <th>SVM_lin5</th>\n",
       "      <th>SVM_lin6</th>\n",
       "      <th>SVM_rbf0</th>\n",
       "      <th>SVM_rbf1</th>\n",
       "      <th>SVM_rbf2</th>\n",
       "      <th>SVM_rbf3</th>\n",
       "      <th>SVM_rbf4</th>\n",
       "      <th>SVM_rbf5</th>\n",
       "      <th>SVM_rbf6</th>\n",
       "      <th>Col names</th>\n",
       "    </tr>\n",
       "  </thead>\n",
       "  <tbody>\n",
       "    <tr>\n",
       "      <th>0</th>\n",
       "      <td>0.000000</td>\n",
       "      <td>0.000000</td>\n",
       "      <td>0.000000</td>\n",
       "      <td>0.000284</td>\n",
       "      <td>0.000000</td>\n",
       "      <td>0.002814</td>\n",
       "      <td>0.000000</td>\n",
       "      <td>0.000588</td>\n",
       "      <td>0.002971</td>\n",
       "      <td>0.006118</td>\n",
       "      <td>...</td>\n",
       "      <td>0.005039</td>\n",
       "      <td>0.008539</td>\n",
       "      <td>0.003686</td>\n",
       "      <td>0.001245</td>\n",
       "      <td>0.002275</td>\n",
       "      <td>0.003853</td>\n",
       "      <td>0.003078</td>\n",
       "      <td>0.001088</td>\n",
       "      <td>0.004667</td>\n",
       "      <td>T1w_cor_bankssts-lh-volume</td>\n",
       "    </tr>\n",
       "    <tr>\n",
       "      <th>1</th>\n",
       "      <td>0.000029</td>\n",
       "      <td>0.005127</td>\n",
       "      <td>0.023265</td>\n",
       "      <td>0.001578</td>\n",
       "      <td>0.009637</td>\n",
       "      <td>0.001892</td>\n",
       "      <td>0.005137</td>\n",
       "      <td>0.009167</td>\n",
       "      <td>0.000284</td>\n",
       "      <td>0.009284</td>\n",
       "      <td>...</td>\n",
       "      <td>0.000696</td>\n",
       "      <td>0.003990</td>\n",
       "      <td>0.010510</td>\n",
       "      <td>0.006716</td>\n",
       "      <td>0.008676</td>\n",
       "      <td>0.009784</td>\n",
       "      <td>0.009873</td>\n",
       "      <td>0.009265</td>\n",
       "      <td>0.004333</td>\n",
       "      <td>T1w_cor_caudalanteriorcingulate-lh-volume</td>\n",
       "    </tr>\n",
       "    <tr>\n",
       "      <th>2</th>\n",
       "      <td>0.000804</td>\n",
       "      <td>0.012402</td>\n",
       "      <td>0.002216</td>\n",
       "      <td>0.008206</td>\n",
       "      <td>0.000118</td>\n",
       "      <td>0.003980</td>\n",
       "      <td>0.000824</td>\n",
       "      <td>0.009745</td>\n",
       "      <td>0.015833</td>\n",
       "      <td>0.004412</td>\n",
       "      <td>...</td>\n",
       "      <td>0.012431</td>\n",
       "      <td>0.020882</td>\n",
       "      <td>0.005235</td>\n",
       "      <td>0.003284</td>\n",
       "      <td>0.001461</td>\n",
       "      <td>0.002667</td>\n",
       "      <td>0.002902</td>\n",
       "      <td>0.002196</td>\n",
       "      <td>0.001706</td>\n",
       "      <td>T1w_cor_caudalmiddlefrontal-lh-volume</td>\n",
       "    </tr>\n",
       "    <tr>\n",
       "      <th>3</th>\n",
       "      <td>0.000000</td>\n",
       "      <td>0.000000</td>\n",
       "      <td>0.000000</td>\n",
       "      <td>0.000000</td>\n",
       "      <td>0.000500</td>\n",
       "      <td>0.002882</td>\n",
       "      <td>0.000794</td>\n",
       "      <td>0.002010</td>\n",
       "      <td>0.001804</td>\n",
       "      <td>0.006029</td>\n",
       "      <td>...</td>\n",
       "      <td>0.001735</td>\n",
       "      <td>0.007392</td>\n",
       "      <td>0.003627</td>\n",
       "      <td>0.001618</td>\n",
       "      <td>0.001657</td>\n",
       "      <td>0.001118</td>\n",
       "      <td>0.001843</td>\n",
       "      <td>0.001265</td>\n",
       "      <td>0.001588</td>\n",
       "      <td>T1w_cor_cuneus-lh-volume</td>\n",
       "    </tr>\n",
       "    <tr>\n",
       "      <th>4</th>\n",
       "      <td>0.000667</td>\n",
       "      <td>0.009020</td>\n",
       "      <td>0.001539</td>\n",
       "      <td>0.011284</td>\n",
       "      <td>0.003735</td>\n",
       "      <td>0.000971</td>\n",
       "      <td>0.000000</td>\n",
       "      <td>0.011000</td>\n",
       "      <td>0.011304</td>\n",
       "      <td>0.009333</td>\n",
       "      <td>...</td>\n",
       "      <td>0.001559</td>\n",
       "      <td>0.023402</td>\n",
       "      <td>0.006284</td>\n",
       "      <td>0.008735</td>\n",
       "      <td>0.007157</td>\n",
       "      <td>0.006980</td>\n",
       "      <td>0.006275</td>\n",
       "      <td>0.010402</td>\n",
       "      <td>0.010078</td>\n",
       "      <td>T1w_cor_entorhinal-lh-volume</td>\n",
       "    </tr>\n",
       "    <tr>\n",
       "      <th>...</th>\n",
       "      <td>...</td>\n",
       "      <td>...</td>\n",
       "      <td>...</td>\n",
       "      <td>...</td>\n",
       "      <td>...</td>\n",
       "      <td>...</td>\n",
       "      <td>...</td>\n",
       "      <td>...</td>\n",
       "      <td>...</td>\n",
       "      <td>...</td>\n",
       "      <td>...</td>\n",
       "      <td>...</td>\n",
       "      <td>...</td>\n",
       "      <td>...</td>\n",
       "      <td>...</td>\n",
       "      <td>...</td>\n",
       "      <td>...</td>\n",
       "      <td>...</td>\n",
       "      <td>...</td>\n",
       "      <td>...</td>\n",
       "      <td>...</td>\n",
       "    </tr>\n",
       "    <tr>\n",
       "      <th>714</th>\n",
       "      <td>0.003461</td>\n",
       "      <td>0.003157</td>\n",
       "      <td>0.004039</td>\n",
       "      <td>0.014971</td>\n",
       "      <td>0.002598</td>\n",
       "      <td>0.006971</td>\n",
       "      <td>0.000000</td>\n",
       "      <td>0.015814</td>\n",
       "      <td>0.002333</td>\n",
       "      <td>0.003147</td>\n",
       "      <td>...</td>\n",
       "      <td>0.012618</td>\n",
       "      <td>0.016029</td>\n",
       "      <td>0.004892</td>\n",
       "      <td>0.007706</td>\n",
       "      <td>0.008108</td>\n",
       "      <td>0.009324</td>\n",
       "      <td>0.007137</td>\n",
       "      <td>0.007196</td>\n",
       "      <td>0.004657</td>\n",
       "      <td>DTI_SS-L_Average</td>\n",
       "    </tr>\n",
       "    <tr>\n",
       "      <th>715</th>\n",
       "      <td>0.000755</td>\n",
       "      <td>0.000000</td>\n",
       "      <td>0.002667</td>\n",
       "      <td>0.001314</td>\n",
       "      <td>0.000000</td>\n",
       "      <td>0.000000</td>\n",
       "      <td>0.001373</td>\n",
       "      <td>0.019206</td>\n",
       "      <td>0.001814</td>\n",
       "      <td>0.002157</td>\n",
       "      <td>...</td>\n",
       "      <td>0.010176</td>\n",
       "      <td>0.014039</td>\n",
       "      <td>0.002029</td>\n",
       "      <td>0.001637</td>\n",
       "      <td>0.002775</td>\n",
       "      <td>0.001304</td>\n",
       "      <td>0.001382</td>\n",
       "      <td>0.001863</td>\n",
       "      <td>0.001588</td>\n",
       "      <td>DTI_SS-R_Average</td>\n",
       "    </tr>\n",
       "    <tr>\n",
       "      <th>716</th>\n",
       "      <td>0.000000</td>\n",
       "      <td>0.004010</td>\n",
       "      <td>0.000000</td>\n",
       "      <td>0.005167</td>\n",
       "      <td>0.003402</td>\n",
       "      <td>0.001657</td>\n",
       "      <td>0.000000</td>\n",
       "      <td>0.003324</td>\n",
       "      <td>0.010235</td>\n",
       "      <td>0.008578</td>\n",
       "      <td>...</td>\n",
       "      <td>0.019235</td>\n",
       "      <td>0.003941</td>\n",
       "      <td>0.004843</td>\n",
       "      <td>0.001441</td>\n",
       "      <td>0.002657</td>\n",
       "      <td>0.001637</td>\n",
       "      <td>0.008108</td>\n",
       "      <td>0.002137</td>\n",
       "      <td>0.002961</td>\n",
       "      <td>DTI_UNC_Average</td>\n",
       "    </tr>\n",
       "    <tr>\n",
       "      <th>717</th>\n",
       "      <td>0.000000</td>\n",
       "      <td>0.002971</td>\n",
       "      <td>0.001686</td>\n",
       "      <td>0.002206</td>\n",
       "      <td>0.000000</td>\n",
       "      <td>0.000627</td>\n",
       "      <td>0.000000</td>\n",
       "      <td>0.001265</td>\n",
       "      <td>0.003088</td>\n",
       "      <td>0.015833</td>\n",
       "      <td>...</td>\n",
       "      <td>0.004020</td>\n",
       "      <td>0.009304</td>\n",
       "      <td>0.006441</td>\n",
       "      <td>0.006549</td>\n",
       "      <td>0.004598</td>\n",
       "      <td>0.004255</td>\n",
       "      <td>0.002657</td>\n",
       "      <td>0.005990</td>\n",
       "      <td>0.003265</td>\n",
       "      <td>DTI_UNC-L_Average</td>\n",
       "    </tr>\n",
       "    <tr>\n",
       "      <th>718</th>\n",
       "      <td>0.001706</td>\n",
       "      <td>0.002500</td>\n",
       "      <td>0.003392</td>\n",
       "      <td>0.000000</td>\n",
       "      <td>0.000000</td>\n",
       "      <td>0.004069</td>\n",
       "      <td>0.001647</td>\n",
       "      <td>0.003833</td>\n",
       "      <td>0.010853</td>\n",
       "      <td>0.006637</td>\n",
       "      <td>...</td>\n",
       "      <td>0.023314</td>\n",
       "      <td>0.002902</td>\n",
       "      <td>0.004892</td>\n",
       "      <td>0.002216</td>\n",
       "      <td>0.001990</td>\n",
       "      <td>0.001500</td>\n",
       "      <td>0.010049</td>\n",
       "      <td>0.001333</td>\n",
       "      <td>0.004029</td>\n",
       "      <td>DTI_UNC-R_Average</td>\n",
       "    </tr>\n",
       "  </tbody>\n",
       "</table>\n",
       "<p>719 rows × 29 columns</p>\n",
       "</div>"
      ],
      "text/plain": [
       "          GB0       GB1       GB2       GB3       GB4       GB5       GB6  \\\n",
       "0    0.000000  0.000000  0.000000  0.000284  0.000000  0.002814  0.000000   \n",
       "1    0.000029  0.005127  0.023265  0.001578  0.009637  0.001892  0.005137   \n",
       "2    0.000804  0.012402  0.002216  0.008206  0.000118  0.003980  0.000824   \n",
       "3    0.000000  0.000000  0.000000  0.000000  0.000500  0.002882  0.000794   \n",
       "4    0.000667  0.009020  0.001539  0.011284  0.003735  0.000971  0.000000   \n",
       "..        ...       ...       ...       ...       ...       ...       ...   \n",
       "714  0.003461  0.003157  0.004039  0.014971  0.002598  0.006971  0.000000   \n",
       "715  0.000755  0.000000  0.002667  0.001314  0.000000  0.000000  0.001373   \n",
       "716  0.000000  0.004010  0.000000  0.005167  0.003402  0.001657  0.000000   \n",
       "717  0.000000  0.002971  0.001686  0.002206  0.000000  0.000627  0.000000   \n",
       "718  0.001706  0.002500  0.003392  0.000000  0.000000  0.004069  0.001647   \n",
       "\n",
       "          LR0       LR1       LR2  ...  SVM_lin5  SVM_lin6  SVM_rbf0  \\\n",
       "0    0.000588  0.002971  0.006118  ...  0.005039  0.008539  0.003686   \n",
       "1    0.009167  0.000284  0.009284  ...  0.000696  0.003990  0.010510   \n",
       "2    0.009745  0.015833  0.004412  ...  0.012431  0.020882  0.005235   \n",
       "3    0.002010  0.001804  0.006029  ...  0.001735  0.007392  0.003627   \n",
       "4    0.011000  0.011304  0.009333  ...  0.001559  0.023402  0.006284   \n",
       "..        ...       ...       ...  ...       ...       ...       ...   \n",
       "714  0.015814  0.002333  0.003147  ...  0.012618  0.016029  0.004892   \n",
       "715  0.019206  0.001814  0.002157  ...  0.010176  0.014039  0.002029   \n",
       "716  0.003324  0.010235  0.008578  ...  0.019235  0.003941  0.004843   \n",
       "717  0.001265  0.003088  0.015833  ...  0.004020  0.009304  0.006441   \n",
       "718  0.003833  0.010853  0.006637  ...  0.023314  0.002902  0.004892   \n",
       "\n",
       "     SVM_rbf1  SVM_rbf2  SVM_rbf3  SVM_rbf4  SVM_rbf5  SVM_rbf6  \\\n",
       "0    0.001245  0.002275  0.003853  0.003078  0.001088  0.004667   \n",
       "1    0.006716  0.008676  0.009784  0.009873  0.009265  0.004333   \n",
       "2    0.003284  0.001461  0.002667  0.002902  0.002196  0.001706   \n",
       "3    0.001618  0.001657  0.001118  0.001843  0.001265  0.001588   \n",
       "4    0.008735  0.007157  0.006980  0.006275  0.010402  0.010078   \n",
       "..        ...       ...       ...       ...       ...       ...   \n",
       "714  0.007706  0.008108  0.009324  0.007137  0.007196  0.004657   \n",
       "715  0.001637  0.002775  0.001304  0.001382  0.001863  0.001588   \n",
       "716  0.001441  0.002657  0.001637  0.008108  0.002137  0.002961   \n",
       "717  0.006549  0.004598  0.004255  0.002657  0.005990  0.003265   \n",
       "718  0.002216  0.001990  0.001500  0.010049  0.001333  0.004029   \n",
       "\n",
       "                                     Col names  \n",
       "0                   T1w_cor_bankssts-lh-volume  \n",
       "1    T1w_cor_caudalanteriorcingulate-lh-volume  \n",
       "2        T1w_cor_caudalmiddlefrontal-lh-volume  \n",
       "3                     T1w_cor_cuneus-lh-volume  \n",
       "4                 T1w_cor_entorhinal-lh-volume  \n",
       "..                                         ...  \n",
       "714                           DTI_SS-L_Average  \n",
       "715                           DTI_SS-R_Average  \n",
       "716                            DTI_UNC_Average  \n",
       "717                          DTI_UNC-L_Average  \n",
       "718                          DTI_UNC-R_Average  \n",
       "\n",
       "[719 rows x 29 columns]"
      ]
     },
     "execution_count": 14,
     "metadata": {},
     "output_type": "execute_result"
    }
   ],
   "source": [
    "DF_SHAP"
   ]
  },
  {
   "cell_type": "markdown",
   "metadata": {},
   "source": [
    "#### read the SHAP value"
   ]
  },
  {
   "cell_type": "code",
   "execution_count": 3,
   "metadata": {},
   "outputs": [],
   "source": [
    "DF_SHAP = SHAP.read_SHAP('all_mean_SHAP.csv')"
   ]
  },
  {
   "cell_type": "code",
   "execution_count": 4,
   "metadata": {},
   "outputs": [
    {
     "data": {
      "text/html": [
       "<div>\n",
       "<style scoped>\n",
       "    .dataframe tbody tr th:only-of-type {\n",
       "        vertical-align: middle;\n",
       "    }\n",
       "\n",
       "    .dataframe tbody tr th {\n",
       "        vertical-align: top;\n",
       "    }\n",
       "\n",
       "    .dataframe thead th {\n",
       "        text-align: right;\n",
       "    }\n",
       "</style>\n",
       "<table border=\"1\" class=\"dataframe\">\n",
       "  <thead>\n",
       "    <tr style=\"text-align: right;\">\n",
       "      <th></th>\n",
       "      <th>GB0</th>\n",
       "      <th>GB1</th>\n",
       "      <th>GB2</th>\n",
       "      <th>GB3</th>\n",
       "      <th>GB4</th>\n",
       "      <th>GB5</th>\n",
       "      <th>GB6</th>\n",
       "      <th>LR0</th>\n",
       "      <th>LR1</th>\n",
       "      <th>LR2</th>\n",
       "      <th>...</th>\n",
       "      <th>SVM_lin5</th>\n",
       "      <th>SVM_lin6</th>\n",
       "      <th>SVM_rbf0</th>\n",
       "      <th>SVM_rbf1</th>\n",
       "      <th>SVM_rbf2</th>\n",
       "      <th>SVM_rbf3</th>\n",
       "      <th>SVM_rbf4</th>\n",
       "      <th>SVM_rbf5</th>\n",
       "      <th>SVM_rbf6</th>\n",
       "      <th>Col names</th>\n",
       "    </tr>\n",
       "  </thead>\n",
       "  <tbody>\n",
       "    <tr>\n",
       "      <th>0</th>\n",
       "      <td>0.000000</td>\n",
       "      <td>0.000000</td>\n",
       "      <td>0.000000</td>\n",
       "      <td>0.000284</td>\n",
       "      <td>0.000000</td>\n",
       "      <td>0.002814</td>\n",
       "      <td>0.000000</td>\n",
       "      <td>0.000588</td>\n",
       "      <td>0.002971</td>\n",
       "      <td>0.006118</td>\n",
       "      <td>...</td>\n",
       "      <td>0.005039</td>\n",
       "      <td>0.008539</td>\n",
       "      <td>0.003686</td>\n",
       "      <td>0.001245</td>\n",
       "      <td>0.002275</td>\n",
       "      <td>0.003853</td>\n",
       "      <td>0.003078</td>\n",
       "      <td>0.001088</td>\n",
       "      <td>0.004667</td>\n",
       "      <td>T1w_cor_bankssts-lh-volume</td>\n",
       "    </tr>\n",
       "    <tr>\n",
       "      <th>1</th>\n",
       "      <td>0.000029</td>\n",
       "      <td>0.005127</td>\n",
       "      <td>0.023265</td>\n",
       "      <td>0.001578</td>\n",
       "      <td>0.009637</td>\n",
       "      <td>0.001892</td>\n",
       "      <td>0.005137</td>\n",
       "      <td>0.009167</td>\n",
       "      <td>0.000284</td>\n",
       "      <td>0.009284</td>\n",
       "      <td>...</td>\n",
       "      <td>0.000696</td>\n",
       "      <td>0.003990</td>\n",
       "      <td>0.010510</td>\n",
       "      <td>0.006716</td>\n",
       "      <td>0.008676</td>\n",
       "      <td>0.009784</td>\n",
       "      <td>0.009873</td>\n",
       "      <td>0.009265</td>\n",
       "      <td>0.004333</td>\n",
       "      <td>T1w_cor_caudalanteriorcingulate-lh-volume</td>\n",
       "    </tr>\n",
       "    <tr>\n",
       "      <th>2</th>\n",
       "      <td>0.000804</td>\n",
       "      <td>0.012402</td>\n",
       "      <td>0.002216</td>\n",
       "      <td>0.008206</td>\n",
       "      <td>0.000118</td>\n",
       "      <td>0.003980</td>\n",
       "      <td>0.000824</td>\n",
       "      <td>0.009745</td>\n",
       "      <td>0.015833</td>\n",
       "      <td>0.004412</td>\n",
       "      <td>...</td>\n",
       "      <td>0.012431</td>\n",
       "      <td>0.020882</td>\n",
       "      <td>0.005235</td>\n",
       "      <td>0.003284</td>\n",
       "      <td>0.001461</td>\n",
       "      <td>0.002667</td>\n",
       "      <td>0.002902</td>\n",
       "      <td>0.002196</td>\n",
       "      <td>0.001706</td>\n",
       "      <td>T1w_cor_caudalmiddlefrontal-lh-volume</td>\n",
       "    </tr>\n",
       "    <tr>\n",
       "      <th>3</th>\n",
       "      <td>0.000000</td>\n",
       "      <td>0.000000</td>\n",
       "      <td>0.000000</td>\n",
       "      <td>0.000000</td>\n",
       "      <td>0.000500</td>\n",
       "      <td>0.002882</td>\n",
       "      <td>0.000794</td>\n",
       "      <td>0.002010</td>\n",
       "      <td>0.001804</td>\n",
       "      <td>0.006029</td>\n",
       "      <td>...</td>\n",
       "      <td>0.001735</td>\n",
       "      <td>0.007392</td>\n",
       "      <td>0.003627</td>\n",
       "      <td>0.001618</td>\n",
       "      <td>0.001657</td>\n",
       "      <td>0.001118</td>\n",
       "      <td>0.001843</td>\n",
       "      <td>0.001265</td>\n",
       "      <td>0.001588</td>\n",
       "      <td>T1w_cor_cuneus-lh-volume</td>\n",
       "    </tr>\n",
       "    <tr>\n",
       "      <th>4</th>\n",
       "      <td>0.000667</td>\n",
       "      <td>0.009020</td>\n",
       "      <td>0.001539</td>\n",
       "      <td>0.011284</td>\n",
       "      <td>0.003735</td>\n",
       "      <td>0.000971</td>\n",
       "      <td>0.000000</td>\n",
       "      <td>0.011000</td>\n",
       "      <td>0.011304</td>\n",
       "      <td>0.009333</td>\n",
       "      <td>...</td>\n",
       "      <td>0.001559</td>\n",
       "      <td>0.023402</td>\n",
       "      <td>0.006284</td>\n",
       "      <td>0.008735</td>\n",
       "      <td>0.007157</td>\n",
       "      <td>0.006980</td>\n",
       "      <td>0.006275</td>\n",
       "      <td>0.010402</td>\n",
       "      <td>0.010078</td>\n",
       "      <td>T1w_cor_entorhinal-lh-volume</td>\n",
       "    </tr>\n",
       "    <tr>\n",
       "      <th>...</th>\n",
       "      <td>...</td>\n",
       "      <td>...</td>\n",
       "      <td>...</td>\n",
       "      <td>...</td>\n",
       "      <td>...</td>\n",
       "      <td>...</td>\n",
       "      <td>...</td>\n",
       "      <td>...</td>\n",
       "      <td>...</td>\n",
       "      <td>...</td>\n",
       "      <td>...</td>\n",
       "      <td>...</td>\n",
       "      <td>...</td>\n",
       "      <td>...</td>\n",
       "      <td>...</td>\n",
       "      <td>...</td>\n",
       "      <td>...</td>\n",
       "      <td>...</td>\n",
       "      <td>...</td>\n",
       "      <td>...</td>\n",
       "      <td>...</td>\n",
       "    </tr>\n",
       "    <tr>\n",
       "      <th>714</th>\n",
       "      <td>0.003461</td>\n",
       "      <td>0.003157</td>\n",
       "      <td>0.004039</td>\n",
       "      <td>0.014971</td>\n",
       "      <td>0.002598</td>\n",
       "      <td>0.006971</td>\n",
       "      <td>0.000000</td>\n",
       "      <td>0.015814</td>\n",
       "      <td>0.002333</td>\n",
       "      <td>0.003147</td>\n",
       "      <td>...</td>\n",
       "      <td>0.012618</td>\n",
       "      <td>0.016029</td>\n",
       "      <td>0.004892</td>\n",
       "      <td>0.007706</td>\n",
       "      <td>0.008108</td>\n",
       "      <td>0.009324</td>\n",
       "      <td>0.007137</td>\n",
       "      <td>0.007196</td>\n",
       "      <td>0.004657</td>\n",
       "      <td>DTI_SS-L_Average</td>\n",
       "    </tr>\n",
       "    <tr>\n",
       "      <th>715</th>\n",
       "      <td>0.000755</td>\n",
       "      <td>0.000000</td>\n",
       "      <td>0.002667</td>\n",
       "      <td>0.001314</td>\n",
       "      <td>0.000000</td>\n",
       "      <td>0.000000</td>\n",
       "      <td>0.001373</td>\n",
       "      <td>0.019206</td>\n",
       "      <td>0.001814</td>\n",
       "      <td>0.002157</td>\n",
       "      <td>...</td>\n",
       "      <td>0.010176</td>\n",
       "      <td>0.014039</td>\n",
       "      <td>0.002029</td>\n",
       "      <td>0.001637</td>\n",
       "      <td>0.002775</td>\n",
       "      <td>0.001304</td>\n",
       "      <td>0.001382</td>\n",
       "      <td>0.001863</td>\n",
       "      <td>0.001588</td>\n",
       "      <td>DTI_SS-R_Average</td>\n",
       "    </tr>\n",
       "    <tr>\n",
       "      <th>716</th>\n",
       "      <td>0.000000</td>\n",
       "      <td>0.004010</td>\n",
       "      <td>0.000000</td>\n",
       "      <td>0.005167</td>\n",
       "      <td>0.003402</td>\n",
       "      <td>0.001657</td>\n",
       "      <td>0.000000</td>\n",
       "      <td>0.003324</td>\n",
       "      <td>0.010235</td>\n",
       "      <td>0.008578</td>\n",
       "      <td>...</td>\n",
       "      <td>0.019235</td>\n",
       "      <td>0.003941</td>\n",
       "      <td>0.004843</td>\n",
       "      <td>0.001441</td>\n",
       "      <td>0.002657</td>\n",
       "      <td>0.001637</td>\n",
       "      <td>0.008108</td>\n",
       "      <td>0.002137</td>\n",
       "      <td>0.002961</td>\n",
       "      <td>DTI_UNC_Average</td>\n",
       "    </tr>\n",
       "    <tr>\n",
       "      <th>717</th>\n",
       "      <td>0.000000</td>\n",
       "      <td>0.002971</td>\n",
       "      <td>0.001686</td>\n",
       "      <td>0.002206</td>\n",
       "      <td>0.000000</td>\n",
       "      <td>0.000627</td>\n",
       "      <td>0.000000</td>\n",
       "      <td>0.001265</td>\n",
       "      <td>0.003088</td>\n",
       "      <td>0.015833</td>\n",
       "      <td>...</td>\n",
       "      <td>0.004020</td>\n",
       "      <td>0.009304</td>\n",
       "      <td>0.006441</td>\n",
       "      <td>0.006549</td>\n",
       "      <td>0.004598</td>\n",
       "      <td>0.004255</td>\n",
       "      <td>0.002657</td>\n",
       "      <td>0.005990</td>\n",
       "      <td>0.003265</td>\n",
       "      <td>DTI_UNC-L_Average</td>\n",
       "    </tr>\n",
       "    <tr>\n",
       "      <th>718</th>\n",
       "      <td>0.001706</td>\n",
       "      <td>0.002500</td>\n",
       "      <td>0.003392</td>\n",
       "      <td>0.000000</td>\n",
       "      <td>0.000000</td>\n",
       "      <td>0.004069</td>\n",
       "      <td>0.001647</td>\n",
       "      <td>0.003833</td>\n",
       "      <td>0.010853</td>\n",
       "      <td>0.006637</td>\n",
       "      <td>...</td>\n",
       "      <td>0.023314</td>\n",
       "      <td>0.002902</td>\n",
       "      <td>0.004892</td>\n",
       "      <td>0.002216</td>\n",
       "      <td>0.001990</td>\n",
       "      <td>0.001500</td>\n",
       "      <td>0.010049</td>\n",
       "      <td>0.001333</td>\n",
       "      <td>0.004029</td>\n",
       "      <td>DTI_UNC-R_Average</td>\n",
       "    </tr>\n",
       "  </tbody>\n",
       "</table>\n",
       "<p>719 rows × 29 columns</p>\n",
       "</div>"
      ],
      "text/plain": [
       "          GB0       GB1       GB2       GB3       GB4       GB5       GB6  \\\n",
       "0    0.000000  0.000000  0.000000  0.000284  0.000000  0.002814  0.000000   \n",
       "1    0.000029  0.005127  0.023265  0.001578  0.009637  0.001892  0.005137   \n",
       "2    0.000804  0.012402  0.002216  0.008206  0.000118  0.003980  0.000824   \n",
       "3    0.000000  0.000000  0.000000  0.000000  0.000500  0.002882  0.000794   \n",
       "4    0.000667  0.009020  0.001539  0.011284  0.003735  0.000971  0.000000   \n",
       "..        ...       ...       ...       ...       ...       ...       ...   \n",
       "714  0.003461  0.003157  0.004039  0.014971  0.002598  0.006971  0.000000   \n",
       "715  0.000755  0.000000  0.002667  0.001314  0.000000  0.000000  0.001373   \n",
       "716  0.000000  0.004010  0.000000  0.005167  0.003402  0.001657  0.000000   \n",
       "717  0.000000  0.002971  0.001686  0.002206  0.000000  0.000627  0.000000   \n",
       "718  0.001706  0.002500  0.003392  0.000000  0.000000  0.004069  0.001647   \n",
       "\n",
       "          LR0       LR1       LR2  ...  SVM_lin5  SVM_lin6  SVM_rbf0  \\\n",
       "0    0.000588  0.002971  0.006118  ...  0.005039  0.008539  0.003686   \n",
       "1    0.009167  0.000284  0.009284  ...  0.000696  0.003990  0.010510   \n",
       "2    0.009745  0.015833  0.004412  ...  0.012431  0.020882  0.005235   \n",
       "3    0.002010  0.001804  0.006029  ...  0.001735  0.007392  0.003627   \n",
       "4    0.011000  0.011304  0.009333  ...  0.001559  0.023402  0.006284   \n",
       "..        ...       ...       ...  ...       ...       ...       ...   \n",
       "714  0.015814  0.002333  0.003147  ...  0.012618  0.016029  0.004892   \n",
       "715  0.019206  0.001814  0.002157  ...  0.010176  0.014039  0.002029   \n",
       "716  0.003324  0.010235  0.008578  ...  0.019235  0.003941  0.004843   \n",
       "717  0.001265  0.003088  0.015833  ...  0.004020  0.009304  0.006441   \n",
       "718  0.003833  0.010853  0.006637  ...  0.023314  0.002902  0.004892   \n",
       "\n",
       "     SVM_rbf1  SVM_rbf2  SVM_rbf3  SVM_rbf4  SVM_rbf5  SVM_rbf6  \\\n",
       "0    0.001245  0.002275  0.003853  0.003078  0.001088  0.004667   \n",
       "1    0.006716  0.008676  0.009784  0.009873  0.009265  0.004333   \n",
       "2    0.003284  0.001461  0.002667  0.002902  0.002196  0.001706   \n",
       "3    0.001618  0.001657  0.001118  0.001843  0.001265  0.001588   \n",
       "4    0.008735  0.007157  0.006980  0.006275  0.010402  0.010078   \n",
       "..        ...       ...       ...       ...       ...       ...   \n",
       "714  0.007706  0.008108  0.009324  0.007137  0.007196  0.004657   \n",
       "715  0.001637  0.002775  0.001304  0.001382  0.001863  0.001588   \n",
       "716  0.001441  0.002657  0.001637  0.008108  0.002137  0.002961   \n",
       "717  0.006549  0.004598  0.004255  0.002657  0.005990  0.003265   \n",
       "718  0.002216  0.001990  0.001500  0.010049  0.001333  0.004029   \n",
       "\n",
       "                                     Col names  \n",
       "0                   T1w_cor_bankssts-lh-volume  \n",
       "1    T1w_cor_caudalanteriorcingulate-lh-volume  \n",
       "2        T1w_cor_caudalmiddlefrontal-lh-volume  \n",
       "3                     T1w_cor_cuneus-lh-volume  \n",
       "4                 T1w_cor_entorhinal-lh-volume  \n",
       "..                                         ...  \n",
       "714                           DTI_SS-L_Average  \n",
       "715                           DTI_SS-R_Average  \n",
       "716                            DTI_UNC_Average  \n",
       "717                          DTI_UNC-L_Average  \n",
       "718                          DTI_UNC-R_Average  \n",
       "\n",
       "[719 rows x 29 columns]"
      ]
     },
     "execution_count": 4,
     "metadata": {},
     "output_type": "execute_result"
    }
   ],
   "source": [
    "DF_SHAP"
   ]
  },
  {
   "cell_type": "code",
   "execution_count": null,
   "metadata": {},
   "outputs": [],
   "source": []
  }
 ],
 "metadata": {
  "kernelspec": {
   "display_name": "Python 3",
   "language": "python",
   "name": "python3"
  },
  "language_info": {
   "codemirror_mode": {
    "name": "ipython",
    "version": 3
   },
   "file_extension": ".py",
   "mimetype": "text/x-python",
   "name": "python",
   "nbconvert_exporter": "python",
   "pygments_lexer": "ipython3",
   "version": "3.8.3"
  }
 },
 "nbformat": 4,
 "nbformat_minor": 4
}
