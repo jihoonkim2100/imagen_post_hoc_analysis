{
 "cells": [
  {
   "cell_type": "markdown",
   "metadata": {},
   "source": [
    "### Generate the post hoc dataset for analysis"
   ]
  },
  {
   "cell_type": "code",
   "execution_count": 1,
   "metadata": {},
   "outputs": [],
   "source": [
    "from imagen_posthocloader import *"
   ]
  },
  {
   "cell_type": "code",
   "execution_count": 2,
   "metadata": {},
   "outputs": [],
   "source": [
    "DATA_DIR = \"/ritter/share/data/IMAGEN\"\n",
    "posthoc = IMAGEN_posthoc()"
   ]
  },
  {
   "cell_type": "markdown",
   "metadata": {},
   "source": [
    "### 1. Load the [INSTRUMENT](https://imagen-europe.com/resources/imagen-dataset/documentation/) data"
   ]
  },
  {
   "cell_type": "markdown",
   "metadata": {},
   "source": [
    "#### collect the selected instrument files from IMAGEN_RAW and store in posthoc"
   ]
  },
  {
   "cell_type": "markdown",
   "metadata": {},
   "source": [
    "Please refer to <i>set_INSTRUMENT()</i> in <i>imagen_posthocloader.py</i>, and load the file and save it as <b> all_*.csv</b> "
   ]
  },
  {
   "cell_type": "code",
   "execution_count": 3,
   "metadata": {},
   "outputs": [],
   "source": [
    "# Instrument\n",
    "NEO   = posthoc.set_INSTRUMENT('NEO')#, save=True)\n",
    "SURPS = posthoc.set_INSTRUMENT('SURPS')#, save=True)\n",
    "CTQ   = posthoc.set_INSTRUMENT('CTQ')#, save=True)\n",
    "CTS   = posthoc.set_INSTRUMENT('CTS')#, save=True)\n",
    "LEQ   = posthoc.set_INSTRUMENT('LEQ')#, save=True)\n",
    "PBQ   = posthoc.set_INSTRUMENT('PBQ')#, save=True)\n",
    "GEN   = posthoc.set_INSTRUMENT('GEN')#, save=True)\n",
    "FTND  = posthoc.set_INSTRUMENT('FTND')#, save=True)"
   ]
  },
  {
   "cell_type": "code",
   "execution_count": 4,
   "metadata": {},
   "outputs": [
    {
     "name": "stdout",
     "output_type": "stream",
     "text": [
      "['Openness mean', 'Conscientiousness mean', 'Extroversion mean', 'Agreeableness mean', 'Neuroticism mean', 'Anxiety Sensitivity mean', 'Hopelessness mean', 'Impulsivity mean', 'Sensation seeking mean', 'Emotional abuse sum', 'Physical abuse sum', 'Sexual abuse sum', 'Emotional neglect sum', 'Physical neglect sum', 'Denial sum', 'Family valence', 'Accident valence', 'Sexuality valence', 'Autonomy valence', 'Devience valence', 'Relocation valence', 'Distress valence', 'Noscale valence', 'Overall valence', 'Family mean frequency', 'Accident mean frequency', 'Sexuality mean frequency', 'Autonomy mean frequency', 'Devience mean frequency', 'Relocation mean frequency', 'Distress mean frequency', 'Noscale mean frequency', 'Overall mean frequency', 'pbq_03', 'pbq_03a', 'pbq_03b', 'pbq_03c', 'pbq_05', 'pbq_05a', 'pbq_05b', 'pbq_05c', 'pbq_06', 'pbq_06a', 'pbq_12', 'pbq_13', 'pbq_13a', 'pbq_13b', 'pbq_13g', 'Paternal_disorder', 'Maternal_disorder', 'Likelihood of nicotine dependence child']\n"
     ]
    }
   ],
   "source": [
    "# general information of the instrument\n",
    "# selected ROI\n",
    "col_NEO = list(NEO.columns[2:].values)\n",
    "col_SURPS = list(SURPS.columns[2:].values)\n",
    "col_CTQ = list(CTQ.columns[2:].values)\n",
    "col_CTS = list(CTS.columns[2:].values)\n",
    "col_LEQ = list(LEQ.columns[2:].values)\n",
    "col_PBQ = list(PBQ.columns[2:].values)\n",
    "col_GEN = list(GEN.columns[2:].values)\n",
    "col_FTND = list(FTND.columns[2:].values)\n",
    "roi_list = col_NEO + col_SURPS + col_CTQ + col_LEQ + col_PBQ + col_GEN + col_FTND\n",
    "print(roi_list)"
   ]
  },
  {
   "cell_type": "markdown",
   "metadata": {},
   "source": [
    "### 2. Load the HDF5 data"
   ]
  },
  {
   "cell_type": "markdown",
   "metadata": {},
   "source": [
    "#### collect the HDF5 files from h5files and save in posthoc"
   ]
  },
  {
   "cell_type": "markdown",
   "metadata": {},
   "source": [
    "Please refer to <i>set_HDF5()</i> in <i>imagen_posthocloader.py</i>, and load the file and save it as <b> all_*.csv</b>"
   ]
  },
  {
   "cell_type": "code",
   "execution_count": 5,
   "metadata": {},
   "outputs": [],
   "source": [
    "# Hdf5\n",
    "BINGE = posthoc.set_HDF5('Binge')#, save=True)"
   ]
  },
  {
   "cell_type": "code",
   "execution_count": 6,
   "metadata": {},
   "outputs": [
    {
     "data": {
      "text/plain": [
       "Index(['ID', 'Session', 'y', 'Dataset', 'Sex', 'Site', 'Class'], dtype='object')"
      ]
     },
     "execution_count": 6,
     "metadata": {},
     "output_type": "execute_result"
    }
   ],
   "source": [
    "# general information of the hdf5\n",
    "BINGE.columns"
   ]
  },
  {
   "cell_type": "markdown",
   "metadata": {},
   "source": [
    "### 3. Load the RUN data"
   ]
  },
  {
   "cell_type": "markdown",
   "metadata": {},
   "source": [
    "#### collect the RUN file from results and save in posthoc"
   ]
  },
  {
   "cell_type": "markdown",
   "metadata": {},
   "source": [
    "Please refer to <i>set_RUN()</i> in <i>imagen_posthocloader.py</i>, and load the file and save it as <b> all_*.csv</b>"
   ]
  },
  {
   "cell_type": "code",
   "execution_count": 7,
   "metadata": {},
   "outputs": [],
   "source": [
    "# RUN\n",
    "RUN = posthoc.set_RUN('../../results/holdout_all-tp-clean_run.csv')#, save=True)"
   ]
  },
  {
   "cell_type": "code",
   "execution_count": 8,
   "metadata": {},
   "outputs": [
    {
     "data": {
      "text/plain": [
       "Index(['i', 'o', 'io', 'technique', 'Session', 'Trial', 'path', 'n_samples',\n",
       "       'n_samples_cc', 'i_is_conf', 'o_is_conf', 'Model', 'model_SVM-rbf__C',\n",
       "       'model_SVM-rbf__gamma', 'runtime', 'model_SVM-lin__C',\n",
       "       'model_GB__learning_rate', 'model_LR__C', 'train_score', 'valid_score',\n",
       "       'test_score', 'roc_auc', 'holdout_score', 'holdout_roc_auc', 'dataset',\n",
       "       'ID', 'true_label', 'prediction', 'TP prob', 'TN prob', 'FP prob',\n",
       "       'FN prob', 'T prob', 'F prob', 'Prob', 'Predict TF', 'Model PN',\n",
       "       'Label PN'],\n",
       "      dtype='object')"
      ]
     },
     "execution_count": 8,
     "metadata": {},
     "output_type": "execute_result"
    }
   ],
   "source": [
    "# general infromation of the hdf5\n",
    "RUN.columns"
   ]
  },
  {
   "cell_type": "markdown",
   "metadata": {},
   "source": [
    "### 4. Save the INSTRUMENT data"
   ]
  },
  {
   "cell_type": "markdown",
   "metadata": {},
   "source": [
    "#### collect the instrument files from posthoc into one file"
   ]
  },
  {
   "cell_type": "markdown",
   "metadata": {},
   "source": [
    "Please refer to <i>to_INSTRUMENT()</i> in <i>imagen_posthocloader.py</i>, and load the file"
   ]
  },
  {
   "cell_type": "code",
   "execution_count": 9,
   "metadata": {},
   "outputs": [],
   "source": [
    "# collect the instrument file \n",
    "inst_list = [NEO, SURPS,CTQ, CTS, LEQ, PBQ, GEN,FTND]\n",
    "# save the instrument file\n",
    "INST = posthoc.to_INSTRUMENT(inst_list)#, save=True)"
   ]
  },
  {
   "cell_type": "code",
   "execution_count": 10,
   "metadata": {},
   "outputs": [
    {
     "name": "stdout",
     "output_type": "stream",
     "text": [
      "['Openness mean', 'Conscientiousness mean', 'Extroversion mean', 'Agreeableness mean', 'Neuroticism mean', 'Anxiety Sensitivity mean', 'Hopelessness mean', 'Impulsivity mean', 'Sensation seeking mean', 'Emotional abuse sum', 'Physical abuse sum', 'Sexual abuse sum', 'Emotional neglect sum', 'Physical neglect sum', 'Denial sum', 'Assault mean', 'Injury mean', 'Negotiation mean', 'Psychological Aggression mean', 'Sexual Coercion mean', 'Family valence', 'Accident valence', 'Sexuality valence', 'Autonomy valence', 'Devience valence', 'Relocation valence', 'Distress valence', 'Noscale valence', 'Overall valence', 'Family mean frequency', 'Accident mean frequency', 'Sexuality mean frequency', 'Autonomy mean frequency', 'Devience mean frequency', 'Relocation mean frequency', 'Distress mean frequency', 'Noscale mean frequency', 'Overall mean frequency', 'pbq_03', 'pbq_03a', 'pbq_03b', 'pbq_03c', 'pbq_05', 'pbq_05a', 'pbq_05b', 'pbq_05c', 'pbq_06', 'pbq_06a', 'pbq_12', 'pbq_13', 'pbq_13a', 'pbq_13b', 'pbq_13g', 'Paternal_disorder', 'Maternal_disorder', 'Likelihood of nicotine dependence child']\n"
     ]
    }
   ],
   "source": [
    "# general information of the instrument\n",
    "# selected ROI\n",
    "col_INST = list(INST.columns[2:].values)\n",
    "print(col_INST)"
   ]
  },
  {
   "cell_type": "markdown",
   "metadata": {},
   "source": [
    "### 5. Read the INSTRUMENT data"
   ]
  },
  {
   "cell_type": "markdown",
   "metadata": {},
   "source": [
    "#### read the instrument files from posthoc into one file"
   ]
  },
  {
   "cell_type": "markdown",
   "metadata": {},
   "source": [
    "Please refer to <i>read_INSTRUMENT()</i> in <i>imagen_posthocloader.py</i>, and load the file"
   ]
  },
  {
   "cell_type": "code",
   "execution_count": 11,
   "metadata": {},
   "outputs": [],
   "source": [
    "INST = posthoc.read_INSTRUMENT('IMAGEN_INSTRUMENT.csv')"
   ]
  },
  {
   "cell_type": "code",
   "execution_count": 12,
   "metadata": {},
   "outputs": [
    {
     "data": {
      "text/plain": [
       "Index(['ID', 'Session', 'Openness mean', 'Conscientiousness mean',\n",
       "       'Extroversion mean', 'Agreeableness mean', 'Neuroticism mean',\n",
       "       'Anxiety Sensitivity mean', 'Hopelessness mean', 'Impulsivity mean',\n",
       "       'Sensation seeking mean', 'Emotional abuse sum', 'Physical abuse sum',\n",
       "       'Sexual abuse sum', 'Emotional neglect sum', 'Physical neglect sum',\n",
       "       'Denial sum', 'Assault mean', 'Injury mean', 'Negotiation mean',\n",
       "       'Psychological Aggression mean', 'Sexual Coercion mean',\n",
       "       'Family valence', 'Accident valence', 'Sexuality valence',\n",
       "       'Autonomy valence', 'Devience valence', 'Relocation valence',\n",
       "       'Distress valence', 'Noscale valence', 'Overall valence',\n",
       "       'Family mean frequency', 'Accident mean frequency',\n",
       "       'Sexuality mean frequency', 'Autonomy mean frequency',\n",
       "       'Devience mean frequency', 'Relocation mean frequency',\n",
       "       'Distress mean frequency', 'Noscale mean frequency',\n",
       "       'Overall mean frequency', 'pbq_03', 'pbq_03a', 'pbq_03b', 'pbq_03c',\n",
       "       'pbq_05', 'pbq_05a', 'pbq_05b', 'pbq_05c', 'pbq_06', 'pbq_06a',\n",
       "       'pbq_12', 'pbq_13', 'pbq_13a', 'pbq_13b', 'pbq_13g',\n",
       "       'Paternal_disorder', 'Maternal_disorder',\n",
       "       'Likelihood of nicotine dependence child'],\n",
       "      dtype='object')"
      ]
     },
     "execution_count": 12,
     "metadata": {},
     "output_type": "execute_result"
    }
   ],
   "source": [
    "# general information of the instrument\n",
    "INST.columns"
   ]
  },
  {
   "cell_type": "markdown",
   "metadata": {},
   "source": [
    "### 6. Read the HDF5 data"
   ]
  },
  {
   "cell_type": "markdown",
   "metadata": {},
   "source": [
    "#### collect the hdf5 files from posthoc into one file"
   ]
  },
  {
   "cell_type": "markdown",
   "metadata": {},
   "source": [
    "Please refer to <i>to_HDF5()</i> in <i>imagen_posthocloader.py</i>, and load the file and save it as <b> all_*.csv</b>"
   ]
  },
  {
   "cell_type": "code",
   "execution_count": 13,
   "metadata": {},
   "outputs": [],
   "source": [
    "HDF5 = posthoc.to_HDF5('all_Binge.csv')#, save=True)"
   ]
  },
  {
   "cell_type": "markdown",
   "metadata": {},
   "source": [
    "#### read the HDF5 files from posthoc into one file"
   ]
  },
  {
   "cell_type": "markdown",
   "metadata": {},
   "source": [
    "Please refer to <i>read_HDF5()</i> in <i>imagen_posthocloader.py</i>, and load the file</b>"
   ]
  },
  {
   "cell_type": "code",
   "execution_count": 14,
   "metadata": {},
   "outputs": [],
   "source": [
    "HDF5 = posthoc.read_HDF5('IMAGEN_HDF5.csv')"
   ]
  },
  {
   "cell_type": "code",
   "execution_count": 15,
   "metadata": {},
   "outputs": [
    {
     "data": {
      "text/plain": [
       "Index(['ID', 'Session', 'y', 'Dataset', 'Sex', 'Site', 'Class'], dtype='object')"
      ]
     },
     "execution_count": 15,
     "metadata": {},
     "output_type": "execute_result"
    }
   ],
   "source": [
    "# general information of the hdf5\n",
    "HDF5.columns"
   ]
  },
  {
   "cell_type": "markdown",
   "metadata": {},
   "source": [
    "### 7. Read the RUN data"
   ]
  },
  {
   "cell_type": "markdown",
   "metadata": {},
   "source": [
    "#### select the ROI of the RUN file from posthoc into one file"
   ]
  },
  {
   "cell_type": "markdown",
   "metadata": {},
   "source": [
    "Please refer to <i>to_RUN()</i> in <i>imagen_posthocloader.py</i>, and load the file and save it as <b> all_*.csv</b>"
   ]
  },
  {
   "cell_type": "code",
   "execution_count": 16,
   "metadata": {},
   "outputs": [],
   "source": [
    "COL = ['ID','Session','Trial','dataset','io','technique','Model',\n",
    "       'TP prob','TN prob','FP prob','FN prob','T prob','F prob','Prob',\n",
    "       'Predict TF','Model PN','Label PN','true_label','prediction']"
   ]
  },
  {
   "cell_type": "code",
   "execution_count": 17,
   "metadata": {},
   "outputs": [],
   "source": [
    "RUN = posthoc.to_RUN('all_RUN.csv', COL)#, save = True)"
   ]
  },
  {
   "cell_type": "code",
   "execution_count": 18,
   "metadata": {},
   "outputs": [
    {
     "data": {
      "text/plain": [
       "Index(['ID', 'Session', 'Trial', 'dataset', 'io', 'technique', 'Model',\n",
       "       'TP prob', 'TN prob', 'FP prob', 'FN prob', 'T prob', 'F prob', 'Prob',\n",
       "       'Predict TF', 'Model PN', 'Label PN', 'true_label', 'prediction'],\n",
       "      dtype='object')"
      ]
     },
     "execution_count": 18,
     "metadata": {},
     "output_type": "execute_result"
    }
   ],
   "source": [
    "# general information of the run\n",
    "RUN.columns"
   ]
  },
  {
   "cell_type": "markdown",
   "metadata": {},
   "source": [
    "#### read the RUN files from posthoc into one file"
   ]
  },
  {
   "cell_type": "markdown",
   "metadata": {},
   "source": [
    "Please refer to <i>read_RUN()</i> in <i>imagen_posthocloader.py</i>, and load the file"
   ]
  },
  {
   "cell_type": "code",
   "execution_count": 19,
   "metadata": {},
   "outputs": [],
   "source": [
    "RUN = posthoc.read_RUN('IMAGEN_RUN.csv')"
   ]
  },
  {
   "cell_type": "code",
   "execution_count": 20,
   "metadata": {},
   "outputs": [
    {
     "data": {
      "text/plain": [
       "Index(['ID', 'Session', 'Trial', 'dataset', 'io', 'technique', 'Model',\n",
       "       'TP prob', 'TN prob', 'FP prob', 'FN prob', 'T prob', 'F prob', 'Prob',\n",
       "       'Predict TF', 'Model PN', 'Label PN', 'true_label', 'prediction'],\n",
       "      dtype='object')"
      ]
     },
     "execution_count": 20,
     "metadata": {},
     "output_type": "execute_result"
    }
   ],
   "source": [
    "# general information of the run\n",
    "RUN.columns"
   ]
  },
  {
   "cell_type": "markdown",
   "metadata": {},
   "source": [
    "### 8. Save the post hoc dataset"
   ]
  },
  {
   "cell_type": "markdown",
   "metadata": {},
   "source": [
    "#### set the dataset for analysis of diagnosis (X:FU3 == y:FU3)"
   ]
  },
  {
   "cell_type": "markdown",
   "metadata": {},
   "source": [
    "Please refer to <i>to_posthoc()</i> in <i>imagen_posthocloader.py</i>, and load the file and save it as <b> all_*.csv</b>"
   ]
  },
  {
   "cell_type": "code",
   "execution_count": 34,
   "metadata": {},
   "outputs": [],
   "source": [
    "DATA = ['IMAGEN_HDF5.csv', 'IMAGEN_INSTRUMENT.csv', 'IMAGEN_RUN.csv']\n",
    "FU3 = posthoc.to_posthoc(DATA)#, save=True)"
   ]
  },
  {
   "cell_type": "code",
   "execution_count": 35,
   "metadata": {},
   "outputs": [
    {
     "data": {
      "text/plain": [
       "Index(['ID', 'Session', 'y', 'Dataset', 'Sex', 'Site', 'Class', 'Trial',\n",
       "       'dataset', 'io', 'technique', 'Model', 'TP prob', 'TN prob', 'FP prob',\n",
       "       'FN prob', 'T prob', 'F prob', 'Prob', 'Predict TF', 'Model PN',\n",
       "       'Label PN', 'true_label', 'prediction', 'Openness mean',\n",
       "       'Conscientiousness mean', 'Extroversion mean', 'Agreeableness mean',\n",
       "       'Neuroticism mean', 'Anxiety Sensitivity mean', 'Hopelessness mean',\n",
       "       'Impulsivity mean', 'Sensation seeking mean', 'Emotional abuse sum',\n",
       "       'Physical abuse sum', 'Sexual abuse sum', 'Emotional neglect sum',\n",
       "       'Physical neglect sum', 'Denial sum', 'Assault mean', 'Injury mean',\n",
       "       'Negotiation mean', 'Psychological Aggression mean',\n",
       "       'Sexual Coercion mean', 'Family valence', 'Accident valence',\n",
       "       'Sexuality valence', 'Autonomy valence', 'Devience valence',\n",
       "       'Relocation valence', 'Distress valence', 'Noscale valence',\n",
       "       'Overall valence', 'Family mean frequency', 'Accident mean frequency',\n",
       "       'Sexuality mean frequency', 'Autonomy mean frequency',\n",
       "       'Devience mean frequency', 'Relocation mean frequency',\n",
       "       'Distress mean frequency', 'Noscale mean frequency',\n",
       "       'Overall mean frequency', 'pbq_03', 'pbq_03a', 'pbq_03b', 'pbq_03c',\n",
       "       'pbq_05', 'pbq_05a', 'pbq_05b', 'pbq_05c', 'pbq_06', 'pbq_06a',\n",
       "       'pbq_12', 'pbq_13', 'pbq_13a', 'pbq_13b', 'pbq_13g',\n",
       "       'Paternal_disorder', 'Maternal_disorder',\n",
       "       'Likelihood of nicotine dependence child'],\n",
       "      dtype='object')"
      ]
     },
     "execution_count": 35,
     "metadata": {},
     "output_type": "execute_result"
    }
   ],
   "source": [
    "# general information of the instrument\n",
    "FU3.columns"
   ]
  },
  {
   "cell_type": "code",
   "execution_count": 36,
   "metadata": {},
   "outputs": [
    {
     "data": {
      "text/plain": [
       "ID                                                           37058553\n",
       "Session                                                           FU3\n",
       "y                                                               Binge\n",
       "Dataset                                                      Training\n",
       "Sex                                                              Male\n",
       "                                                      ...            \n",
       "pbq_13b                                                           NaN\n",
       "pbq_13g                                                           NaN\n",
       "Paternal_disorder                          Major Depression recurrent\n",
       "Maternal_disorder                                                 NaN\n",
       "Likelihood of nicotine dependence child                less dependent\n",
       "Name: 1000, Length: 80, dtype: object"
      ]
     },
     "execution_count": 36,
     "metadata": {},
     "output_type": "execute_result"
    }
   ],
   "source": [
    "FU3.iloc[1000]"
   ]
  },
  {
   "cell_type": "markdown",
   "metadata": {},
   "source": [
    "#### set the dataset for analysis of prognosis (X:FU3 != y:FU3)"
   ]
  },
  {
   "cell_type": "markdown",
   "metadata": {},
   "source": [
    "Please refer to <i>read_posthoc()</i> in <i>imagen_posthocloader.py</i>, and load the file"
   ]
  },
  {
   "cell_type": "code",
   "execution_count": 37,
   "metadata": {},
   "outputs": [],
   "source": [
    "FU3 = posthoc.read_posthoc('IMAGEN_posthoc.csv')"
   ]
  },
  {
   "cell_type": "code",
   "execution_count": 38,
   "metadata": {},
   "outputs": [
    {
     "data": {
      "text/html": [
       "<div>\n",
       "<style scoped>\n",
       "    .dataframe tbody tr th:only-of-type {\n",
       "        vertical-align: middle;\n",
       "    }\n",
       "\n",
       "    .dataframe tbody tr th {\n",
       "        vertical-align: top;\n",
       "    }\n",
       "\n",
       "    .dataframe thead th {\n",
       "        text-align: right;\n",
       "    }\n",
       "</style>\n",
       "<table border=\"1\" class=\"dataframe\">\n",
       "  <thead>\n",
       "    <tr style=\"text-align: right;\">\n",
       "      <th></th>\n",
       "      <th>ID</th>\n",
       "      <th>Session</th>\n",
       "      <th>y</th>\n",
       "      <th>Dataset</th>\n",
       "      <th>Sex</th>\n",
       "      <th>Site</th>\n",
       "      <th>Class</th>\n",
       "      <th>Trial</th>\n",
       "      <th>dataset</th>\n",
       "      <th>io</th>\n",
       "      <th>...</th>\n",
       "      <th>pbq_06</th>\n",
       "      <th>pbq_06a</th>\n",
       "      <th>pbq_12</th>\n",
       "      <th>pbq_13</th>\n",
       "      <th>pbq_13a</th>\n",
       "      <th>pbq_13b</th>\n",
       "      <th>pbq_13g</th>\n",
       "      <th>Paternal_disorder</th>\n",
       "      <th>Maternal_disorder</th>\n",
       "      <th>Likelihood of nicotine dependence child</th>\n",
       "    </tr>\n",
       "  </thead>\n",
       "  <tbody>\n",
       "    <tr>\n",
       "      <th>2600</th>\n",
       "      <td>1163495</td>\n",
       "      <td>FU3</td>\n",
       "      <td>Binge</td>\n",
       "      <td>Holdout</td>\n",
       "      <td>Male</td>\n",
       "      <td>Mannheim</td>\n",
       "      <td>AAM</td>\n",
       "      <td>0</td>\n",
       "      <td>Holdout set</td>\n",
       "      <td>X-Binge</td>\n",
       "      <td>...</td>\n",
       "      <td>NaN</td>\n",
       "      <td>NaN</td>\n",
       "      <td>NaN</td>\n",
       "      <td>NaN</td>\n",
       "      <td>NaN</td>\n",
       "      <td>NaN</td>\n",
       "      <td>NaN</td>\n",
       "      <td>NaN</td>\n",
       "      <td>NaN</td>\n",
       "      <td>less dependent</td>\n",
       "    </tr>\n",
       "    <tr>\n",
       "      <th>2601</th>\n",
       "      <td>1163495</td>\n",
       "      <td>FU3</td>\n",
       "      <td>Binge</td>\n",
       "      <td>Holdout</td>\n",
       "      <td>Male</td>\n",
       "      <td>Mannheim</td>\n",
       "      <td>AAM</td>\n",
       "      <td>1</td>\n",
       "      <td>Holdout set</td>\n",
       "      <td>X-Binge</td>\n",
       "      <td>...</td>\n",
       "      <td>NaN</td>\n",
       "      <td>NaN</td>\n",
       "      <td>NaN</td>\n",
       "      <td>NaN</td>\n",
       "      <td>NaN</td>\n",
       "      <td>NaN</td>\n",
       "      <td>NaN</td>\n",
       "      <td>NaN</td>\n",
       "      <td>NaN</td>\n",
       "      <td>less dependent</td>\n",
       "    </tr>\n",
       "    <tr>\n",
       "      <th>2602</th>\n",
       "      <td>1163495</td>\n",
       "      <td>FU3</td>\n",
       "      <td>Binge</td>\n",
       "      <td>Holdout</td>\n",
       "      <td>Male</td>\n",
       "      <td>Mannheim</td>\n",
       "      <td>AAM</td>\n",
       "      <td>2</td>\n",
       "      <td>Holdout set</td>\n",
       "      <td>X-Binge</td>\n",
       "      <td>...</td>\n",
       "      <td>NaN</td>\n",
       "      <td>NaN</td>\n",
       "      <td>NaN</td>\n",
       "      <td>NaN</td>\n",
       "      <td>NaN</td>\n",
       "      <td>NaN</td>\n",
       "      <td>NaN</td>\n",
       "      <td>NaN</td>\n",
       "      <td>NaN</td>\n",
       "      <td>less dependent</td>\n",
       "    </tr>\n",
       "    <tr>\n",
       "      <th>2603</th>\n",
       "      <td>1163495</td>\n",
       "      <td>FU3</td>\n",
       "      <td>Binge</td>\n",
       "      <td>Holdout</td>\n",
       "      <td>Male</td>\n",
       "      <td>Mannheim</td>\n",
       "      <td>AAM</td>\n",
       "      <td>3</td>\n",
       "      <td>Holdout set</td>\n",
       "      <td>X-Binge</td>\n",
       "      <td>...</td>\n",
       "      <td>NaN</td>\n",
       "      <td>NaN</td>\n",
       "      <td>NaN</td>\n",
       "      <td>NaN</td>\n",
       "      <td>NaN</td>\n",
       "      <td>NaN</td>\n",
       "      <td>NaN</td>\n",
       "      <td>NaN</td>\n",
       "      <td>NaN</td>\n",
       "      <td>less dependent</td>\n",
       "    </tr>\n",
       "    <tr>\n",
       "      <th>2604</th>\n",
       "      <td>1163495</td>\n",
       "      <td>FU3</td>\n",
       "      <td>Binge</td>\n",
       "      <td>Holdout</td>\n",
       "      <td>Male</td>\n",
       "      <td>Mannheim</td>\n",
       "      <td>AAM</td>\n",
       "      <td>4</td>\n",
       "      <td>Holdout set</td>\n",
       "      <td>X-Binge</td>\n",
       "      <td>...</td>\n",
       "      <td>NaN</td>\n",
       "      <td>NaN</td>\n",
       "      <td>NaN</td>\n",
       "      <td>NaN</td>\n",
       "      <td>NaN</td>\n",
       "      <td>NaN</td>\n",
       "      <td>NaN</td>\n",
       "      <td>NaN</td>\n",
       "      <td>NaN</td>\n",
       "      <td>less dependent</td>\n",
       "    </tr>\n",
       "    <tr>\n",
       "      <th>...</th>\n",
       "      <td>...</td>\n",
       "      <td>...</td>\n",
       "      <td>...</td>\n",
       "      <td>...</td>\n",
       "      <td>...</td>\n",
       "      <td>...</td>\n",
       "      <td>...</td>\n",
       "      <td>...</td>\n",
       "      <td>...</td>\n",
       "      <td>...</td>\n",
       "      <td>...</td>\n",
       "      <td>...</td>\n",
       "      <td>...</td>\n",
       "      <td>...</td>\n",
       "      <td>...</td>\n",
       "      <td>...</td>\n",
       "      <td>...</td>\n",
       "      <td>...</td>\n",
       "      <td>...</td>\n",
       "      <td>...</td>\n",
       "      <td>...</td>\n",
       "    </tr>\n",
       "    <tr>\n",
       "      <th>5451</th>\n",
       "      <td>99875982</td>\n",
       "      <td>FU3</td>\n",
       "      <td>Binge</td>\n",
       "      <td>Holdout</td>\n",
       "      <td>Male</td>\n",
       "      <td>Hamburg</td>\n",
       "      <td>HC</td>\n",
       "      <td>2</td>\n",
       "      <td>Holdout set</td>\n",
       "      <td>X-Binge</td>\n",
       "      <td>...</td>\n",
       "      <td>NaN</td>\n",
       "      <td>NaN</td>\n",
       "      <td>NaN</td>\n",
       "      <td>NaN</td>\n",
       "      <td>NaN</td>\n",
       "      <td>NaN</td>\n",
       "      <td>NaN</td>\n",
       "      <td>Major Depression single episode</td>\n",
       "      <td>NaN</td>\n",
       "      <td>less dependent</td>\n",
       "    </tr>\n",
       "    <tr>\n",
       "      <th>5452</th>\n",
       "      <td>99875982</td>\n",
       "      <td>FU3</td>\n",
       "      <td>Binge</td>\n",
       "      <td>Holdout</td>\n",
       "      <td>Male</td>\n",
       "      <td>Hamburg</td>\n",
       "      <td>HC</td>\n",
       "      <td>3</td>\n",
       "      <td>Holdout set</td>\n",
       "      <td>X-Binge</td>\n",
       "      <td>...</td>\n",
       "      <td>NaN</td>\n",
       "      <td>NaN</td>\n",
       "      <td>NaN</td>\n",
       "      <td>NaN</td>\n",
       "      <td>NaN</td>\n",
       "      <td>NaN</td>\n",
       "      <td>NaN</td>\n",
       "      <td>Major Depression single episode</td>\n",
       "      <td>NaN</td>\n",
       "      <td>less dependent</td>\n",
       "    </tr>\n",
       "    <tr>\n",
       "      <th>5453</th>\n",
       "      <td>99875982</td>\n",
       "      <td>FU3</td>\n",
       "      <td>Binge</td>\n",
       "      <td>Holdout</td>\n",
       "      <td>Male</td>\n",
       "      <td>Hamburg</td>\n",
       "      <td>HC</td>\n",
       "      <td>4</td>\n",
       "      <td>Holdout set</td>\n",
       "      <td>X-Binge</td>\n",
       "      <td>...</td>\n",
       "      <td>NaN</td>\n",
       "      <td>NaN</td>\n",
       "      <td>NaN</td>\n",
       "      <td>NaN</td>\n",
       "      <td>NaN</td>\n",
       "      <td>NaN</td>\n",
       "      <td>NaN</td>\n",
       "      <td>Major Depression single episode</td>\n",
       "      <td>NaN</td>\n",
       "      <td>less dependent</td>\n",
       "    </tr>\n",
       "    <tr>\n",
       "      <th>5454</th>\n",
       "      <td>99875982</td>\n",
       "      <td>FU3</td>\n",
       "      <td>Binge</td>\n",
       "      <td>Holdout</td>\n",
       "      <td>Male</td>\n",
       "      <td>Hamburg</td>\n",
       "      <td>HC</td>\n",
       "      <td>5</td>\n",
       "      <td>Holdout set</td>\n",
       "      <td>X-Binge</td>\n",
       "      <td>...</td>\n",
       "      <td>NaN</td>\n",
       "      <td>NaN</td>\n",
       "      <td>NaN</td>\n",
       "      <td>NaN</td>\n",
       "      <td>NaN</td>\n",
       "      <td>NaN</td>\n",
       "      <td>NaN</td>\n",
       "      <td>Major Depression single episode</td>\n",
       "      <td>NaN</td>\n",
       "      <td>less dependent</td>\n",
       "    </tr>\n",
       "    <tr>\n",
       "      <th>5455</th>\n",
       "      <td>99875982</td>\n",
       "      <td>FU3</td>\n",
       "      <td>Binge</td>\n",
       "      <td>Holdout</td>\n",
       "      <td>Male</td>\n",
       "      <td>Hamburg</td>\n",
       "      <td>HC</td>\n",
       "      <td>6</td>\n",
       "      <td>Holdout set</td>\n",
       "      <td>X-Binge</td>\n",
       "      <td>...</td>\n",
       "      <td>NaN</td>\n",
       "      <td>NaN</td>\n",
       "      <td>NaN</td>\n",
       "      <td>NaN</td>\n",
       "      <td>NaN</td>\n",
       "      <td>NaN</td>\n",
       "      <td>NaN</td>\n",
       "      <td>Major Depression single episode</td>\n",
       "      <td>NaN</td>\n",
       "      <td>less dependent</td>\n",
       "    </tr>\n",
       "  </tbody>\n",
       "</table>\n",
       "<p>2856 rows × 80 columns</p>\n",
       "</div>"
      ],
      "text/plain": [
       "            ID Session      y  Dataset   Sex      Site Class  Trial  \\\n",
       "2600   1163495     FU3  Binge  Holdout  Male  Mannheim   AAM      0   \n",
       "2601   1163495     FU3  Binge  Holdout  Male  Mannheim   AAM      1   \n",
       "2602   1163495     FU3  Binge  Holdout  Male  Mannheim   AAM      2   \n",
       "2603   1163495     FU3  Binge  Holdout  Male  Mannheim   AAM      3   \n",
       "2604   1163495     FU3  Binge  Holdout  Male  Mannheim   AAM      4   \n",
       "...        ...     ...    ...      ...   ...       ...   ...    ...   \n",
       "5451  99875982     FU3  Binge  Holdout  Male   Hamburg    HC      2   \n",
       "5452  99875982     FU3  Binge  Holdout  Male   Hamburg    HC      3   \n",
       "5453  99875982     FU3  Binge  Holdout  Male   Hamburg    HC      4   \n",
       "5454  99875982     FU3  Binge  Holdout  Male   Hamburg    HC      5   \n",
       "5455  99875982     FU3  Binge  Holdout  Male   Hamburg    HC      6   \n",
       "\n",
       "          dataset       io  ... pbq_06 pbq_06a  pbq_12  pbq_13  pbq_13a  \\\n",
       "2600  Holdout set  X-Binge  ...    NaN     NaN     NaN     NaN      NaN   \n",
       "2601  Holdout set  X-Binge  ...    NaN     NaN     NaN     NaN      NaN   \n",
       "2602  Holdout set  X-Binge  ...    NaN     NaN     NaN     NaN      NaN   \n",
       "2603  Holdout set  X-Binge  ...    NaN     NaN     NaN     NaN      NaN   \n",
       "2604  Holdout set  X-Binge  ...    NaN     NaN     NaN     NaN      NaN   \n",
       "...           ...      ...  ...    ...     ...     ...     ...      ...   \n",
       "5451  Holdout set  X-Binge  ...    NaN     NaN     NaN     NaN      NaN   \n",
       "5452  Holdout set  X-Binge  ...    NaN     NaN     NaN     NaN      NaN   \n",
       "5453  Holdout set  X-Binge  ...    NaN     NaN     NaN     NaN      NaN   \n",
       "5454  Holdout set  X-Binge  ...    NaN     NaN     NaN     NaN      NaN   \n",
       "5455  Holdout set  X-Binge  ...    NaN     NaN     NaN     NaN      NaN   \n",
       "\n",
       "      pbq_13b  pbq_13g                Paternal_disorder Maternal_disorder  \\\n",
       "2600      NaN      NaN                              NaN               NaN   \n",
       "2601      NaN      NaN                              NaN               NaN   \n",
       "2602      NaN      NaN                              NaN               NaN   \n",
       "2603      NaN      NaN                              NaN               NaN   \n",
       "2604      NaN      NaN                              NaN               NaN   \n",
       "...       ...      ...                              ...               ...   \n",
       "5451      NaN      NaN  Major Depression single episode               NaN   \n",
       "5452      NaN      NaN  Major Depression single episode               NaN   \n",
       "5453      NaN      NaN  Major Depression single episode               NaN   \n",
       "5454      NaN      NaN  Major Depression single episode               NaN   \n",
       "5455      NaN      NaN  Major Depression single episode               NaN   \n",
       "\n",
       "     Likelihood of nicotine dependence child  \n",
       "2600                          less dependent  \n",
       "2601                          less dependent  \n",
       "2602                          less dependent  \n",
       "2603                          less dependent  \n",
       "2604                          less dependent  \n",
       "...                                      ...  \n",
       "5451                          less dependent  \n",
       "5452                          less dependent  \n",
       "5453                          less dependent  \n",
       "5454                          less dependent  \n",
       "5455                          less dependent  \n",
       "\n",
       "[2856 rows x 80 columns]"
      ]
     },
     "execution_count": 38,
     "metadata": {},
     "output_type": "execute_result"
    }
   ],
   "source": [
    "FU3.groupby('Dataset').get_group('Holdout')"
   ]
  },
  {
   "cell_type": "code",
   "execution_count": 39,
   "metadata": {},
   "outputs": [
    {
     "name": "stdout",
     "output_type": "stream",
     "text": [
      "<class 'pandas.core.frame.DataFrame'>\n",
      "RangeIndex: 5456 entries, 0 to 5455\n",
      "Data columns (total 80 columns):\n",
      " #   Column                                   Non-Null Count  Dtype  \n",
      "---  ------                                   --------------  -----  \n",
      " 0   ID                                       5456 non-null   int64  \n",
      " 1   Session                                  5456 non-null   object \n",
      " 2   y                                        5456 non-null   object \n",
      " 3   Dataset                                  5456 non-null   object \n",
      " 4   Sex                                      5456 non-null   object \n",
      " 5   Site                                     5456 non-null   object \n",
      " 6   Class                                    5456 non-null   object \n",
      " 7   Trial                                    5456 non-null   int64  \n",
      " 8   dataset                                  5456 non-null   object \n",
      " 9   io                                       5456 non-null   object \n",
      " 10  technique                                5456 non-null   object \n",
      " 11  Model                                    5456 non-null   object \n",
      " 12  TP prob                                  2331 non-null   float64\n",
      " 13  TN prob                                  1529 non-null   float64\n",
      " 14  FP prob                                  803 non-null    float64\n",
      " 15  FN prob                                  793 non-null    float64\n",
      " 16  T prob                                   3860 non-null   float64\n",
      " 17  F prob                                   1596 non-null   float64\n",
      " 18  Prob                                     5456 non-null   object \n",
      " 19  Predict TF                               5456 non-null   object \n",
      " 20  Model PN                                 5456 non-null   object \n",
      " 21  Label PN                                 5456 non-null   object \n",
      " 22  true_label                               5456 non-null   float64\n",
      " 23  prediction                               5456 non-null   float64\n",
      " 24  Openness mean                            5400 non-null   float64\n",
      " 25  Conscientiousness mean                   5400 non-null   float64\n",
      " 26  Extroversion mean                        5400 non-null   float64\n",
      " 27  Agreeableness mean                       5400 non-null   float64\n",
      " 28  Neuroticism mean                         5400 non-null   float64\n",
      " 29  Anxiety Sensitivity mean                 5396 non-null   float64\n",
      " 30  Hopelessness mean                        5396 non-null   float64\n",
      " 31  Impulsivity mean                         5396 non-null   float64\n",
      " 32  Sensation seeking mean                   5396 non-null   float64\n",
      " 33  Emotional abuse sum                      4784 non-null   float64\n",
      " 34  Physical abuse sum                       4784 non-null   float64\n",
      " 35  Sexual abuse sum                         4784 non-null   float64\n",
      " 36  Emotional neglect sum                    4784 non-null   float64\n",
      " 37  Physical neglect sum                     4784 non-null   float64\n",
      " 38  Denial sum                               4784 non-null   float64\n",
      " 39  Assault mean                             5156 non-null   float64\n",
      " 40  Injury mean                              5156 non-null   float64\n",
      " 41  Negotiation mean                         5156 non-null   float64\n",
      " 42  Psychological Aggression mean            5156 non-null   float64\n",
      " 43  Sexual Coercion mean                     5156 non-null   float64\n",
      " 44  Family valence                           5396 non-null   float64\n",
      " 45  Accident valence                         5396 non-null   float64\n",
      " 46  Sexuality valence                        5396 non-null   float64\n",
      " 47  Autonomy valence                         5396 non-null   float64\n",
      " 48  Devience valence                         5396 non-null   float64\n",
      " 49  Relocation valence                       5396 non-null   float64\n",
      " 50  Distress valence                         5396 non-null   float64\n",
      " 51  Noscale valence                          5396 non-null   float64\n",
      " 52  Overall valence                          5396 non-null   float64\n",
      " 53  Family mean frequency                    5396 non-null   float64\n",
      " 54  Accident mean frequency                  5396 non-null   float64\n",
      " 55  Sexuality mean frequency                 5396 non-null   float64\n",
      " 56  Autonomy mean frequency                  5396 non-null   float64\n",
      " 57  Devience mean frequency                  5396 non-null   float64\n",
      " 58  Relocation mean frequency                5396 non-null   float64\n",
      " 59  Distress mean frequency                  5396 non-null   float64\n",
      " 60  Noscale mean frequency                   5396 non-null   float64\n",
      " 61  Overall mean frequency                   5396 non-null   float64\n",
      " 62  pbq_03                                   0 non-null      float64\n",
      " 63  pbq_03a                                  0 non-null      float64\n",
      " 64  pbq_03b                                  0 non-null      float64\n",
      " 65  pbq_03c                                  0 non-null      float64\n",
      " 66  pbq_05                                   0 non-null      float64\n",
      " 67  pbq_05a                                  0 non-null      float64\n",
      " 68  pbq_05b                                  0 non-null      float64\n",
      " 69  pbq_05c                                  0 non-null      float64\n",
      " 70  pbq_06                                   0 non-null      float64\n",
      " 71  pbq_06a                                  0 non-null      float64\n",
      " 72  pbq_12                                   0 non-null      float64\n",
      " 73  pbq_13                                   0 non-null      float64\n",
      " 74  pbq_13a                                  0 non-null      float64\n",
      " 75  pbq_13b                                  0 non-null      float64\n",
      " 76  pbq_13g                                  0 non-null      float64\n",
      " 77  Paternal_disorder                        536 non-null    object \n",
      " 78  Maternal_disorder                        500 non-null    object \n",
      " 79  Likelihood of nicotine dependence child  5456 non-null   object \n",
      "dtypes: float64(61), int64(2), object(17)\n",
      "memory usage: 3.3+ MB\n"
     ]
    }
   ],
   "source": [
    "FU3.info()"
   ]
  },
  {
   "cell_type": "code",
   "execution_count": 40,
   "metadata": {},
   "outputs": [
    {
     "name": "stdout",
     "output_type": "stream",
     "text": [
      "['ID', 'Session', 'y', 'Dataset', 'Sex', 'Site', 'Class', 'Trial', 'dataset', 'io', 'technique', 'Model', 'TP prob', 'TN prob', 'FP prob', 'FN prob', 'T prob', 'F prob', 'Prob', 'Predict TF', 'Model PN', 'Label PN', 'true_label', 'prediction', 'Openness mean', 'Conscientiousness mean', 'Extroversion mean', 'Agreeableness mean', 'Neuroticism mean', 'Anxiety Sensitivity mean', 'Hopelessness mean', 'Impulsivity mean', 'Sensation seeking mean', 'Emotional abuse sum', 'Physical abuse sum', 'Sexual abuse sum', 'Emotional neglect sum', 'Physical neglect sum', 'Denial sum', 'Assault mean', 'Injury mean', 'Negotiation mean', 'Psychological Aggression mean', 'Sexual Coercion mean', 'Family valence', 'Accident valence', 'Sexuality valence', 'Autonomy valence', 'Devience valence', 'Relocation valence', 'Distress valence', 'Noscale valence', 'Overall valence', 'Family mean frequency', 'Accident mean frequency', 'Sexuality mean frequency', 'Autonomy mean frequency', 'Devience mean frequency', 'Relocation mean frequency', 'Distress mean frequency', 'Noscale mean frequency', 'Overall mean frequency', 'pbq_03', 'pbq_03a', 'pbq_03b', 'pbq_03c', 'pbq_05', 'pbq_05a', 'pbq_05b', 'pbq_05c', 'pbq_06', 'pbq_06a', 'pbq_12', 'pbq_13', 'pbq_13a', 'pbq_13b', 'pbq_13g', 'Paternal_disorder', 'Maternal_disorder', 'Likelihood of nicotine dependence child']\n"
     ]
    }
   ],
   "source": [
    "# general information of the instrument\n",
    "print(list(FU3.columns))"
   ]
  },
  {
   "cell_type": "code",
   "execution_count": 41,
   "metadata": {},
   "outputs": [
    {
     "name": "stdout",
     "output_type": "stream",
     "text": [
      "ID                                                           37058553\n",
      "Session                                                           FU3\n",
      "y                                                               Binge\n",
      "Dataset                                                      Training\n",
      "Sex                                                              Male\n",
      "                                                      ...            \n",
      "pbq_13b                                                           NaN\n",
      "pbq_13g                                                           NaN\n",
      "Paternal_disorder                          Major Depression recurrent\n",
      "Maternal_disorder                                                 NaN\n",
      "Likelihood of nicotine dependence child                less dependent\n",
      "Name: 1000, Length: 80, dtype: object\n"
     ]
    }
   ],
   "source": [
    "print(FU3.iloc[1000])"
   ]
  },
  {
   "cell_type": "code",
   "execution_count": null,
   "metadata": {},
   "outputs": [],
   "source": []
  }
 ],
 "metadata": {
  "kernelspec": {
   "display_name": "Python 3",
   "language": "python",
   "name": "python3"
  },
  "language_info": {
   "codemirror_mode": {
    "name": "ipython",
    "version": 3
   },
   "file_extension": ".py",
   "mimetype": "text/x-python",
   "name": "python",
   "nbconvert_exporter": "python",
   "pygments_lexer": "ipython3",
   "version": "3.8.3"
  }
 },
 "nbformat": 4,
 "nbformat_minor": 4
}
