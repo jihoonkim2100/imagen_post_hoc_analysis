{
 "cells": [
  {
   "cell_type": "markdown",
   "metadata": {},
   "source": [
    "# Posthoc Analysis of IMAGEN:\n",
    "The preliminary results in our IMAGEN paper advocates for a more in-depth understanding of what contributes to the significant performance of the ML models for the three time-points: <br>\n",
    "<li>Baseline (<b>BL</b>): Age <tr> <b>14</b></li>\n",
    "<li>Follow 1 year (<b>FU1</b>): Age <b>16</b></li>\n",
    "<li>Follow 2 year (<b>FU2</b>): Age <b>19</b></li>\n",
    "<li>Follow 3 year (<b>FU3</b>): Age <b>22</b></li>\n",
    "\n",
    "<br>\n",
    "Such in-depth understanding can be achieved by performing follow-up analysis:"
   ]
  },
  {
   "cell_type": "code",
   "execution_count": null,
   "metadata": {},
   "outputs": [],
   "source": [
    "import matplotlib.pyplot as plt\n",
    "import seaborn as sns\n",
    "from statannot import add_stat_annotation\n",
    "\n",
    "from imagen_instrumentloader import *\n",
    "from imagen_plot_statistics import *\n",
    "from imagen_plot_statistics_2 import *"
   ]
  },
  {
   "cell_type": "markdown",
   "metadata": {},
   "source": [
    "# 3. Error Analysis\n",
    "## 3.1. Data preprocessing"
   ]
  },
  {
   "cell_type": "markdown",
   "metadata": {},
   "source": [
    "<b> Load the dataset </b>"
   ]
  },
  {
   "cell_type": "code",
   "execution_count": null,
   "metadata": {},
   "outputs": [],
   "source": [
    "posthoc = IMAGEN_posthoc()"
   ]
  },
  {
   "cell_type": "code",
   "execution_count": null,
   "metadata": {},
   "outputs": [],
   "source": [
    "# HDF5\n",
    "DF_HDF5 = posthoc.set_HDF5('Binge')\n",
    "DF_HDF5"
   ]
  },
  {
   "cell_type": "code",
   "execution_count": null,
   "metadata": {},
   "outputs": [],
   "source": [
    "# #################################################################################\n",
    "# # Validation RUN\n",
    "# RUN = pd.read_csv('newlbls-fu3-espad-fu3-19a-binge-n650_val_run.csv')\n",
    "# # Test RUN\n",
    "# RUN2 = pd.read_csv('newlbls-fu3-espad-fu3-19a-binge-n650_test_run.csv')\n",
    "# # Psychological profile\n",
    "# NEO = IMAGEN_instrument()\n",
    "# b_NEO = NEO.get_instrument('newlbls-fu3-espad-fu3-19a-binge-n650_NEO.csv')\n",
    "# SURPS = IMAGEN_instrument()\n",
    "# b_SURPS = SURPS.get_instrument('newlbls-fu3-espad-fu3-19a-binge-n650_SURPS.csv')\n",
    "# # Social profile\n",
    "# CTQ = IMAGEN_instrument()\n",
    "# b_CTQ = CTQ.read_instrument('newlbls-fu3-espad-fu3-19a-binge-n650_CTQ.csv')\n",
    "# LEQ = IMAGEN_instrument()\n",
    "# b_LEQ = LEQ.read_instrument('newlbls-fu3-espad-fu3-19a-binge-n650_LEQ.csv')\n",
    "# CTS = IMAGEN_instrument()\n",
    "# b_CTS = CTS.read_instrument('newlbls-fu3-espad-fu3-19a-binge-n650_CTS.csv')"
   ]
  },
  {
   "cell_type": "markdown",
   "metadata": {},
   "source": [
    "<b> Generate the posthoc dataset </b>"
   ]
  },
  {
   "cell_type": "code",
   "execution_count": null,
   "metadata": {},
   "outputs": [],
   "source": [
    "# # Validation\n",
    "# ph_NEO = pd.merge(b_NEO, RUN, on=['ID','Sex','Site','Class'], how = 'outer')\n",
    "# ph_SURPS = pd.merge(b_SURPS, RUN, on=['ID','Sex','Site','Class'], how = 'outer')\n",
    "# ph_CTQ = pd.merge(b_CTQ, RUN, on=['ID','Sex','Site','Class'], how = 'outer')\n",
    "# ph_LEQ = pd.merge(b_LEQ, RUN, on=['ID','Sex','Site','Class'], how = 'outer')\n",
    "# ph_CTS = pd.merge(b_CTS, RUN, on=['ID','Sex','Site','Class'], how = 'outer')\n",
    "# # Test\n",
    "# tt_NEO = pd.merge(b_NEO, RUN2, on=['ID','Sex','Site','Class'], how = 'outer')\n",
    "# tt_SURPS = pd.merge(b_SURPS, RUN2, on=['ID','Sex','Site','Class'], how = 'outer')\n",
    "# tt_CTQ = pd.merge(b_CTQ, RUN2, on=['ID','Sex','Site','Class'], how = 'outer')\n",
    "# tt_LEQ = pd.merge(b_LEQ, RUN2, on=['ID','Sex','Site','Class'], how = 'outer')\n",
    "# tt_CTS = pd.merge(b_CTS, RUN2, on=['ID','Sex','Site','Class'], how = 'outer')"
   ]
  },
  {
   "cell_type": "markdown",
   "metadata": {},
   "source": [
    "## 3.2. Diagnosis: posthoc analysis on newlbls-fu3-espad-fu3-19a-binge-n650"
   ]
  },
  {
   "cell_type": "markdown",
   "metadata": {},
   "source": [
    "### 3.2.1. NEO"
   ]
  },
  {
   "cell_type": "markdown",
   "metadata": {},
   "source": [
    "<b> Select the session (FU3)) </b>"
   ]
  },
  {
   "cell_type": "code",
   "execution_count": null,
   "metadata": {},
   "outputs": [],
   "source": [
    "ses_data = b_NEO\n",
    "# groupby Session, code refactoring needed\n",
    "ses = ses_data.groupby('Session')\n",
    "b_FU3 = ses.get_group('FU3')\n",
    "roi = b_FU3.columns[:5]\n",
    "b_NEO = b_FU3\n",
    "c_NEO = [roi[2], roi[4], roi[1], roi[3], roi[0]]"
   ]
  },
  {
   "cell_type": "markdown",
   "metadata": {},
   "source": [
    "<b> Plot the result by Sex & Class </b>"
   ]
  },
  {
   "cell_type": "code",
   "execution_count": null,
   "metadata": {},
   "outputs": [],
   "source": [
    "data = b_NEO\n",
    "col = c_NEO\n",
    "\n",
    "NEO_result = sc_plot('NEO', data, col)"
   ]
  },
  {
   "cell_type": "code",
   "execution_count": null,
   "metadata": {},
   "outputs": [],
   "source": [
    "# # Plot the result by Model prediction\n",
    "# ses_data = tt_NEO\n",
    "# # groupby Session\n",
    "# ses = ses_data.groupby('Session')\n",
    "# b_FU3 = ses.get_group('FU3')\n",
    "\n",
    "# data = b_FU3\n",
    "# col = c_NEO\n",
    "# NEO_result = sc_plot('NEO', data, col)"
   ]
  },
  {
   "cell_type": "markdown",
   "metadata": {},
   "source": [
    "<b> Plot the result by Model prediction </b>"
   ]
  },
  {
   "cell_type": "code",
   "execution_count": null,
   "metadata": {},
   "outputs": [],
   "source": [
    "# Plot the result by Model prediction\n",
    "ses_data = ph_NEO\n",
    "# groupby Session\n",
    "ses = ses_data.groupby('Session')\n",
    "b_FU3 = ses.get_group('FU3')\n",
    "train = b_FU3\n",
    "# Plot the result by Model prediction\n",
    "ses_data = tt_NEO\n",
    "# groupby Session\n",
    "ses = ses_data.groupby('Session')\n",
    "b_FU3 = ses.get_group('FU3')\n",
    "test = b_FU3\n",
    "\n",
    "col = c_NEO"
   ]
  },
  {
   "cell_type": "code",
   "execution_count": null,
   "metadata": {},
   "outputs": [],
   "source": [
    "# Openness\n",
    "ml_plot(train, test, col[0])\n",
    "# Conscietineuous\n",
    "ml_plot(train, test, col[1])\n",
    "# Extroversion\n",
    "ml_plot(train, test, col[2])\n",
    "# Agreebleness\n",
    "ml_plot(train, test, col[3])\n",
    "# Neuroticism\n",
    "ml_plot(train, test, col[4])"
   ]
  },
  {
   "cell_type": "code",
   "execution_count": null,
   "metadata": {},
   "outputs": [],
   "source": [
    "# # Plot the result by Model prediction\n",
    "# ses_data = ph_NEO\n",
    "# # groupby Session\n",
    "# ses = ses_data.groupby('Session')\n",
    "# b_FU3 = ses.get_group('FU3')\n",
    "# train = b_FU3\n",
    "# col = c_NEO[0]\n",
    "\n",
    "# tf_plot(train, col)"
   ]
  },
  {
   "cell_type": "code",
   "execution_count": null,
   "metadata": {},
   "outputs": [],
   "source": [
    "# Plot the result by Model prediction\n",
    "ses_data = ph_NEO\n",
    "# groupby Session\n",
    "ses = ses_data.groupby('Session')\n",
    "b_FU3 = ses.get_group('FU3')\n",
    "train = b_FU3\n",
    "# Plot the result by Model prediction\n",
    "ses_data = tt_NEO\n",
    "# groupby Session\n",
    "ses = ses_data.groupby('Session')\n",
    "b_FU3 = ses.get_group('FU3')\n",
    "test = b_FU3\n",
    "# Openness\n",
    "col = c_NEO[0]\n",
    "NEO_ML_result = ml_Prob_plot('NEO', train, test, col)\n",
    "# Conscietineuous\n",
    "col = c_NEO[1]\n",
    "NEO_ML_result = ml_Prob_plot('NEO', train, test, col)\n",
    "# Extroversion\n",
    "col = c_NEO[2]\n",
    "NEO_ML_result = ml_Prob_plot('NEO', train, test, col)\n",
    "# # Agreebleness\n",
    "# col = c_NEO[3]\n",
    "# NEO_ML_result = ml_plot('NEO', train, test, col)\n",
    "# # Neuroticism\n",
    "# col = c_NEO[4]\n",
    "# NEO_ML_result = ml_plot('NEO', train, test, col)"
   ]
  },
  {
   "cell_type": "code",
   "execution_count": null,
   "metadata": {},
   "outputs": [],
   "source": [
    "# Plot the result by Model prediction\n",
    "ses_data = ph_NEO\n",
    "# groupby Session\n",
    "ses = ses_data.groupby('Session')\n",
    "b_FU3 = ses.get_group('FU3')\n",
    "train = b_FU3\n",
    "# Plot the result by Model prediction\n",
    "ses_data = tt_NEO\n",
    "# groupby Session\n",
    "ses = ses_data.groupby('Session')\n",
    "b_FU3 = ses.get_group('FU3')\n",
    "test = b_FU3\n",
    "# Openness\n",
    "col = c_NEO[0]\n",
    "NEO_ML_result = pd_TF_plot('NEO', train, test, col)\n",
    "# Conscietineuous\n",
    "col = c_NEO[1]\n",
    "NEO_ML_result = pd_TF_plot('NEO', train, test, col)\n",
    "# Extroversion\n",
    "col = c_NEO[2]\n",
    "NEO_ML_result = pd_TF_plot('NEO', train, test, col)\n",
    "# # Agreebleness\n",
    "# col = c_NEO[3]\n",
    "# NEO_ML_result = ml_plot('NEO', train, test, col)\n",
    "# # Neuroticism\n",
    "# col = c_NEO[4]\n",
    "# NEO_ML_result = ml_plot('NEO', train, test, col)"
   ]
  },
  {
   "cell_type": "markdown",
   "metadata": {},
   "source": [
    "### 3.2.2. SURPS"
   ]
  },
  {
   "cell_type": "code",
   "execution_count": null,
   "metadata": {},
   "outputs": [],
   "source": [
    "ses_data = b_SURPS\n",
    "# groupby Session\n",
    "ses = ses_data.groupby('Session')\n",
    "b_FU3 = ses.get_group('FU3')\n",
    "roi = b_FU3.columns[:4]\n",
    "\n",
    "b_SURPS = b_FU3\n",
    "c_SURPS = [roi[1],roi[0],roi[2],roi[3]]"
   ]
  },
  {
   "cell_type": "markdown",
   "metadata": {},
   "source": [
    "<b> Plot the result by Sex & Class </b>"
   ]
  },
  {
   "cell_type": "code",
   "execution_count": null,
   "metadata": {},
   "outputs": [],
   "source": [
    "# Plot the result by Sex & Class\n",
    "data = b_SURPS\n",
    "col = c_SURPS\n",
    "SURPS_result = sc_plot('SURPS', data, col)"
   ]
  },
  {
   "cell_type": "code",
   "execution_count": null,
   "metadata": {},
   "outputs": [],
   "source": [
    "# # Plot the result by Model prediction\n",
    "# ses_data = tt_SURPS\n",
    "# # groupby Session\n",
    "# ses = ses_data.groupby('Session')\n",
    "# b_FU3 = ses.get_group('FU3')\n",
    "\n",
    "# data = b_FU3\n",
    "# col = c_SURPS\n",
    "# SURPS_result = sc_plot('NEO', data, col)"
   ]
  },
  {
   "cell_type": "markdown",
   "metadata": {},
   "source": [
    "<b> Plot the result by Model prediction </b>"
   ]
  },
  {
   "cell_type": "code",
   "execution_count": null,
   "metadata": {},
   "outputs": [],
   "source": [
    "# Plot the result by Model prediction\n",
    "ses_data = ph_SURPS\n",
    "# groupby Session\n",
    "ses = ses_data.groupby('Session')\n",
    "b_FU3 = ses.get_group('FU3')\n",
    "train = b_FU3\n",
    "# Plot the result by Model prediction\n",
    "ses_data = tt_SURPS\n",
    "# groupby Session\n",
    "ses = ses_data.groupby('Session')\n",
    "b_FU3 = ses.get_group('FU3')\n",
    "test = b_FU3\n",
    "\n",
    "col = c_SURPS"
   ]
  },
  {
   "cell_type": "code",
   "execution_count": null,
   "metadata": {},
   "outputs": [],
   "source": [
    "# Hopelessness\n",
    "ml_plot(train, test, col[0])\n",
    "# Anxiety sensitivity\n",
    "ml_plot(train, test, col[1])\n",
    "# Impulsivity\n",
    "ml_plot(train, test, col[2])\n",
    "# Sensation seeking\n",
    "ml_plot(train, test, col[3])"
   ]
  },
  {
   "cell_type": "code",
   "execution_count": null,
   "metadata": {},
   "outputs": [],
   "source": [
    "# # Hopelessness\n",
    "# col = c_SURPS[0]\n",
    "# SURPS_ML_result = ml_plot('SURPS', train, test, col)\n",
    "# # Anxiety sensitivity\n",
    "# col = c_SURPS[1]\n",
    "# SURPS_ML_result = ml_plot('SURPS', train, test, col)\n",
    "# Impulsivity\n",
    "col = c_SURPS[2]\n",
    "SURPS_ML_result = ml_PN_plot('SURPS', train, test, col)\n",
    "# Sensation seeking\n",
    "col = c_SURPS[3]\n",
    "SURPS_ML_result = ml_PN_plot('SURPS', train, test, col)"
   ]
  },
  {
   "cell_type": "code",
   "execution_count": null,
   "metadata": {},
   "outputs": [],
   "source": [
    "# Plot the result by Model prediction\n",
    "ses_data = ph_SURPS\n",
    "# groupby Session\n",
    "ses = ses_data.groupby('Session')\n",
    "b_FU3 = ses.get_group('FU3')\n",
    "train = b_FU3\n",
    "# Plot the result by Model prediction\n",
    "ses_data = tt_SURPS\n",
    "# groupby Session\n",
    "ses = ses_data.groupby('Session')\n",
    "b_FU3 = ses.get_group('FU3')\n",
    "test = b_FU3\n",
    "# # Hopelessness\n",
    "# col = c_SURPS[0]\n",
    "# SURPS_ML_result = ml_plot('SURPS', train, test, col)\n",
    "# # Anxiety sensitivity\n",
    "# col = c_SURPS[1]\n",
    "# SURPS_ML_result = ml_plot('SURPS', train, test, col)\n",
    "# Impulsivity\n",
    "col = c_SURPS[2]\n",
    "SURPS_ML_result = pd_TF_plot('SURPS', train, test, col)\n",
    "# Sensation seeking\n",
    "col = c_SURPS[3]\n",
    "SURPS_ML_result = pd_TF_plot('SURPS', train, test, col)"
   ]
  },
  {
   "cell_type": "markdown",
   "metadata": {},
   "source": [
    "### 3.2.3. CTQ"
   ]
  },
  {
   "cell_type": "code",
   "execution_count": null,
   "metadata": {},
   "outputs": [],
   "source": [
    "# Select the session: FU2\n",
    "roi = b_CTQ.columns[:6]\n",
    "c_CTQ = [roi[5], roi[0], roi[3], roi[1], roi[4], roi[2]]"
   ]
  },
  {
   "cell_type": "markdown",
   "metadata": {},
   "source": [
    "<b> Plot the result by Sex & Class </b>"
   ]
  },
  {
   "cell_type": "code",
   "execution_count": null,
   "metadata": {},
   "outputs": [],
   "source": [
    "# Plot the result by Sex & Class\n",
    "data = b_CTQ\n",
    "col = c_CTQ\n",
    "CTQ_result = sc_plot('CTQ', data, col)"
   ]
  },
  {
   "cell_type": "code",
   "execution_count": null,
   "metadata": {},
   "outputs": [],
   "source": [
    "# # Plot the result by Model prediction\n",
    "# data = tt_CTQ\n",
    "# col = c_CTQ\n",
    "# CTQ_result = sc_plot('NEO', data, col)"
   ]
  },
  {
   "cell_type": "markdown",
   "metadata": {},
   "source": [
    "<b> Plot the result by Model prediction </b>"
   ]
  },
  {
   "cell_type": "code",
   "execution_count": null,
   "metadata": {},
   "outputs": [],
   "source": [
    "# Plot the result by Model prediction\n",
    "train = ph_CTQ\n",
    "test = tt_CTQ\n",
    "# Denial sum\n",
    "col = ph_CTQ.columns[5]"
   ]
  },
  {
   "cell_type": "code",
   "execution_count": null,
   "metadata": {},
   "outputs": [],
   "source": [
    "# Denial sum\n",
    "ml_plot(train, test, col)"
   ]
  },
  {
   "cell_type": "code",
   "execution_count": null,
   "metadata": {},
   "outputs": [],
   "source": [
    "# Plot the result by Model prediction\n",
    "train = ph_CTQ\n",
    "test = tt_CTQ\n",
    "# Denial sum\n",
    "col = ph_CTQ.columns[5]\n",
    "CTQ_ML_result = ml_PN_plot('CTQ', train, test, col)\n",
    "CTQ_ML_result"
   ]
  },
  {
   "cell_type": "code",
   "execution_count": null,
   "metadata": {},
   "outputs": [],
   "source": [
    "# Plot the result by Model prediction\n",
    "train = ph_CTQ\n",
    "test = tt_CTQ\n",
    "# Denial sum\n",
    "col = ph_CTQ.columns[5]\n",
    "CTQ_ML_result = pd_TF_plot('CTQ', train, test, col)\n",
    "CTQ_ML_result"
   ]
  },
  {
   "cell_type": "markdown",
   "metadata": {},
   "source": [
    "### Correlation"
   ]
  },
  {
   "cell_type": "code",
   "execution_count": null,
   "metadata": {},
   "outputs": [],
   "source": [
    "sns.scatterplot(data=ph_CTQ, x=\"Probability\", y=\"Denial sum\", hue=\"Model\")"
   ]
  },
  {
   "cell_type": "code",
   "execution_count": null,
   "metadata": {},
   "outputs": [],
   "source": [
    "SVM_CTQ = ph_CTQ.groupby('Model').get_group('SVM-rbf')\n",
    "sns.scatterplot(data=SVM_CTQ, x=\"Probability\", y=\"Denial sum\", hue=\"Class\")"
   ]
  },
  {
   "cell_type": "code",
   "execution_count": null,
   "metadata": {},
   "outputs": [],
   "source": [
    "SVM_CTQ = ph_CTQ.groupby('Model').get_group('SVM-rbf')\n",
    "sns.scatterplot(data=SVM_CTQ, x=\"Probability\", y=\"Denial sum\", hue=\"Sex\")"
   ]
  },
  {
   "cell_type": "code",
   "execution_count": null,
   "metadata": {},
   "outputs": [],
   "source": [
    "sns.regplot(x=\"Probability\", y=\"Denial sum\", data=SVM_CTQ)"
   ]
  },
  {
   "cell_type": "code",
   "execution_count": null,
   "metadata": {},
   "outputs": [],
   "source": [
    "sns.lmplot(x=\"Probability\", y=\"Denial sum\", data=SVM_CTQ, x_estimator=np.mean)"
   ]
  },
  {
   "cell_type": "code",
   "execution_count": null,
   "metadata": {},
   "outputs": [],
   "source": [
    "sns.lmplot(x=\"Probability\", y=\"Denial sum\", hue=\"Class\", data=SVM_CTQ,\n",
    "           markers=[\"o\", \"x\"], palette=\"Set1\")"
   ]
  },
  {
   "cell_type": "code",
   "execution_count": null,
   "metadata": {},
   "outputs": [],
   "source": [
    "sns.lmplot(x=\"Probability\", y=\"Denial sum\", col='Model PN', hue=\"Class\",data=SVM_CTQ)"
   ]
  },
  {
   "cell_type": "code",
   "execution_count": null,
   "metadata": {},
   "outputs": [],
   "source": [
    "sns.lmplot(x=\"Probability\", y=\"Denial sum\", col='Predict TF', hue=\"Class\",data=SVM_CTQ)"
   ]
  },
  {
   "cell_type": "code",
   "execution_count": null,
   "metadata": {},
   "outputs": [],
   "source": [
    "train['Model']"
   ]
  },
  {
   "cell_type": "code",
   "execution_count": null,
   "metadata": {},
   "outputs": [],
   "source": [
    "train.info()"
   ]
  },
  {
   "cell_type": "code",
   "execution_count": null,
   "metadata": {},
   "outputs": [],
   "source": [
    "SVM = train.groupby('Model').get_group('SVM-rbf')"
   ]
  },
  {
   "cell_type": "code",
   "execution_count": null,
   "metadata": {},
   "outputs": [],
   "source": [
    "#fig, axes = plt.subplots(nrows=1, cols=1, figsize=(12, 18))\n",
    "for i, j in SVM.groupby('Prob'):\n",
    "    j['Openness mean'].plot.hist(label=i, alpha=0.2)\n",
    "plt.legend()"
   ]
  },
  {
   "cell_type": "code",
   "execution_count": null,
   "metadata": {},
   "outputs": [],
   "source": [
    "# Correlation map between openness and predicted probability of four models.\n",
    "# color: Blue N, Red P"
   ]
  },
  {
   "cell_type": "markdown",
   "metadata": {},
   "source": [
    "### 3.2.4. LEQ"
   ]
  },
  {
   "cell_type": "code",
   "execution_count": null,
   "metadata": {},
   "outputs": [],
   "source": [
    "# Select the session: FU3\n",
    "ses_data = b_LEQ\n",
    "# groupby Session\n",
    "ses = ses_data.groupby('Session')\n",
    "b_FU3 = ses.get_group('FU3')\n",
    "c_LEQ = b_LEQ.columns[0:8]"
   ]
  },
  {
   "cell_type": "markdown",
   "metadata": {},
   "source": [
    "<b> Plot the result by Sex & Class </b>"
   ]
  },
  {
   "cell_type": "code",
   "execution_count": null,
   "metadata": {},
   "outputs": [],
   "source": [
    "# Plot the result by Sex & Class\n",
    "data = b_FU3\n",
    "col = c_LEQ\n",
    "LEQ_result = sc_plot('LEQ', data, col)"
   ]
  },
  {
   "cell_type": "code",
   "execution_count": null,
   "metadata": {},
   "outputs": [],
   "source": [
    "# # Select the session: FU3\n",
    "# ses_data = tt_LEQ\n",
    "# # groupby Session\n",
    "# ses = ses_data.groupby('Session')\n",
    "# b_FU3 = ses.get_group('FU3')\n",
    "# c_LEQ = b_LEQ.columns[0:8]\n",
    "# # Plot the result by Sex & Class\n",
    "# data = b_FU3\n",
    "# col = c_LEQ\n",
    "# LEQ_result = sc_plot('LEQ', data, col)"
   ]
  },
  {
   "cell_type": "markdown",
   "metadata": {},
   "source": [
    "<b> Plot the result by Model prediction </b>"
   ]
  },
  {
   "cell_type": "code",
   "execution_count": null,
   "metadata": {},
   "outputs": [],
   "source": [
    "# Plot the result by Model prediction\n",
    "ses_data = ph_LEQ\n",
    "# groupby Session\n",
    "ses = ses_data.groupby('Session')\n",
    "b_FU3 = ses.get_group('FU3')\n",
    "train = b_FU3\n",
    "# Plot the result by Model prediction\n",
    "ses_data = tt_LEQ\n",
    "# groupby Session\n",
    "ses = ses_data.groupby('Session')\n",
    "b_FU3 = ses.get_group('FU3')\n",
    "test = b_FU3"
   ]
  },
  {
   "cell_type": "code",
   "execution_count": null,
   "metadata": {},
   "outputs": [],
   "source": [
    "# Accident\n",
    "col = ph_LEQ.columns[1]\n",
    "LEQ_ML_result = ml_plot(train, test, col)\n",
    "# Sexuality\n",
    "col = ph_LEQ.columns[2]\n",
    "LEQ_ML_result = ml_plot(train, test, col)\n",
    "# Relocation\n",
    "col = ph_LEQ.columns[5]\n",
    "LEQ_ML_result = ml_plot(train, test, col)"
   ]
  },
  {
   "cell_type": "code",
   "execution_count": null,
   "metadata": {},
   "outputs": [],
   "source": [
    "# Accident\n",
    "col = ph_LEQ.columns[1]\n",
    "LEQ_ML_result = ml_PN_plot('LEQ', train, test, col)\n",
    "# Sexuality\n",
    "col = ph_LEQ.columns[2]\n",
    "LEQ_ML_result = ml_PN_plot('LEQ', train, test, col)\n",
    "# Relocation\n",
    "col = ph_LEQ.columns[5]\n",
    "LEQ_ML_result = ml_PN_plot('LEQ', train, test, col)"
   ]
  },
  {
   "cell_type": "code",
   "execution_count": null,
   "metadata": {},
   "outputs": [],
   "source": [
    "# Plot the result by Model prediction\n",
    "ses_data = ph_LEQ\n",
    "# groupby Session\n",
    "ses = ses_data.groupby('Session')\n",
    "b_FU3 = ses.get_group('FU3')\n",
    "train = b_FU3\n",
    "# Plot the result by Model prediction\n",
    "ses_data = tt_LEQ\n",
    "# groupby Session\n",
    "ses = ses_data.groupby('Session')\n",
    "b_FU3 = ses.get_group('FU3')\n",
    "test = b_FU3\n",
    "# Accident\n",
    "col = ph_LEQ.columns[1]\n",
    "LEQ_ML_result = pd_TF_plot('LEQ', train, test, col)\n",
    "# Sexuality\n",
    "col = ph_LEQ.columns[2]\n",
    "LEQ_ML_result = pd_TF_plot('LEQ', train, test, col)\n",
    "# Relocation\n",
    "col = ph_LEQ.columns[5]\n",
    "LEQ_ML_result = pd_TF_plot('LEQ', train, test, col)"
   ]
  },
  {
   "cell_type": "markdown",
   "metadata": {},
   "source": [
    "### 3.2.5. CTS"
   ]
  },
  {
   "cell_type": "code",
   "execution_count": null,
   "metadata": {},
   "outputs": [],
   "source": [
    "# Select the session: BL\n",
    "c_CTS = b_CTS.columns[:5]"
   ]
  },
  {
   "cell_type": "markdown",
   "metadata": {},
   "source": [
    "<b> Plot the result by Sex & Class </b>"
   ]
  },
  {
   "cell_type": "code",
   "execution_count": null,
   "metadata": {},
   "outputs": [],
   "source": [
    "# Plot the result by Sex & Class\n",
    "data = b_CTS\n",
    "col = c_CTS\n",
    "CTS_result = sc_plot('CTS', data, col)"
   ]
  },
  {
   "cell_type": "code",
   "execution_count": null,
   "metadata": {},
   "outputs": [],
   "source": [
    "# # Plot the result by Sex & Class\n",
    "# data = tt_CTS\n",
    "# col = c_CTS\n",
    "# CTS_result = sc_plot('CTS', data, col)"
   ]
  },
  {
   "cell_type": "markdown",
   "metadata": {},
   "source": [
    "<b> Plot the result by Model prediction </b>"
   ]
  },
  {
   "cell_type": "code",
   "execution_count": null,
   "metadata": {},
   "outputs": [],
   "source": [
    "# Plot the result by Model prediction\n",
    "train = ph_CTS\n",
    "test = tt_CTS\n",
    "# Negotiation\n",
    "col = ph_CTS.columns[2]\n",
    "ml_plot(train, test, col)\n",
    "# Sexual coersion\n",
    "col = ph_CTS.columns[4]\n",
    "ml_plot(train, test, col)"
   ]
  },
  {
   "cell_type": "code",
   "execution_count": null,
   "metadata": {},
   "outputs": [],
   "source": [
    "# Plot the result by Model prediction\n",
    "train = ph_CTS\n",
    "test = tt_CTS\n",
    "# Negotiation\n",
    "col = ph_CTS.columns[2]\n",
    "CTS_ML_result = ml_PN_plot('CTS', train, test, col)\n",
    "# Sexual coersion\n",
    "col = ph_CTS.columns[4]\n",
    "CTS_ML_result = ml_PN_plot('CTS', train, test, col)\n",
    "# CTS_ML_result = ml_plot('CTS', data[data[col]<0.5], col)"
   ]
  },
  {
   "cell_type": "code",
   "execution_count": null,
   "metadata": {},
   "outputs": [],
   "source": [
    "# Plot the result by Model prediction\n",
    "train = ph_CTS\n",
    "test = tt_CTS\n",
    "# Negotiation\n",
    "col = ph_CTS.columns[2]\n",
    "CTS_ML_result = pd_TF_plot('CTS', train, test, col)\n",
    "# Sexual coersion\n",
    "col = ph_CTS.columns[4]\n",
    "CTS_ML_result = pd_TF_plot('CTS', train, test, col)\n",
    "# CTS_ML_result = ml_plot('CTS', data[data[col]<0.5], col)"
   ]
  },
  {
   "cell_type": "markdown",
   "metadata": {},
   "source": [
    "## 3.3. Prognosis: posthoc analysis on newlbls-fu3-espad-fu3-19a-binge-n650"
   ]
  },
  {
   "cell_type": "markdown",
   "metadata": {},
   "source": [
    "### Other Session (BL, FU1, FU2)"
   ]
  },
  {
   "cell_type": "code",
   "execution_count": null,
   "metadata": {},
   "outputs": [],
   "source": [
    "# # Model\n",
    "# binge_ML = DF.groupby('Model')\n",
    "# # Logistic Regression (LR)\n",
    "# binge_ML_LR = binge_ML.get_group(\"('X', 'Binge', 'cb', 'LR')\")\n",
    "# LR_T = binge_ML_LR[binge_ML_LR['Predict']==True]['ID'].values.tolist()\n",
    "# LR_F = binge_ML_LR[binge_ML_LR['Predict']!=True]['ID'].values.tolist()\n",
    "# # Linear SVM (SVM-lin)\n",
    "# binge_ML_SVM_lin = binge_ML.get_group(\"('X', 'Binge', 'cb', 'SVM-lin')\")\n",
    "# SVM_lin_T = binge_ML_SVM_lin[binge_ML_SVM_lin['Predict']==True]['ID'].values.tolist()\n",
    "# SVM_lin_F = binge_ML_SVM_lin[binge_ML_SVM_lin['Predict']!=True]['ID'].values.tolist()\n",
    "# # Kernal SVM (SVM-rbf)\n",
    "# binge_ML_SVM_rbf = binge_ML.get_group(\"('X', 'Binge', 'cb', 'SVM-rbf')\")\n",
    "# SVM_rbf_T = binge_ML_SVM_rbf[binge_ML_SVM_rbf['Predict']==True]['ID'].values.tolist()\n",
    "# SVM_rbf_F = binge_ML_SVM_rbf[binge_ML_SVM_rbf['Predict']!=True]['ID'].values.tolist()\n",
    "# # Gradient Boosting (GB)\n",
    "# binge_ML_GB = binge_ML.get_group(\"('X', 'Binge', 'cb', 'GB')\")\n",
    "# GB_T = binge_ML_GB[binge_ML_GB['Predict']==True]['ID'].values.tolist()\n",
    "# GB_F = binge_ML_GB[binge_ML_GB['Predict']!=True]['ID'].values.tolist()"
   ]
  },
  {
   "cell_type": "code",
   "execution_count": null,
   "metadata": {},
   "outputs": [],
   "source": [
    "# binge_CTQ_Sex = binge_CTQ.groupby(['Sex'])\n",
    "# binge_CTQ_M = binge_CTQ_Sex.get_group('Male')\n",
    "# binge_CTQ_F = binge_CTQ_Sex.get_group('Female')"
   ]
  },
  {
   "cell_type": "code",
   "execution_count": null,
   "metadata": {},
   "outputs": [],
   "source": [
    "# binge_CTQ_Sex = binge_CTQ.groupby(['Sex'])\n",
    "# binge_CTQ_M = binge_CTQ_Sex.get_group('Male')\n",
    "# binge_CTQ_F = binge_CTQ_Sex.get_group('Female')\n",
    "# binge_CTQ_GB_T = binge_CTQ.set_index('ID').loc[GB_T]\n",
    "# binge_CTQ_GB_T_M = binge_CTQ.set_index('ID').loc[GB_T].groupby(['Sex']).get_group('Male')\n",
    "# binge_CTQ_GB_T_F = binge_CTQ.set_index('ID').loc[GB_T].groupby(['Sex']).get_group('Female')\n",
    "# binge_CTQ_GB_F = binge_CTQ.set_index('ID').loc[GB_F]\n",
    "# binge_CTQ_GB_F_M = binge_CTQ.set_index('ID').loc[GB_F].groupby(['Sex']).get_group('Male')\n",
    "# binge_CTQ_GB_F_F = binge_CTQ.set_index('ID').loc[GB_F].groupby(['Sex']).get_group('Female')\n",
    "\n",
    "# ('LR T',binge_CTQ.set_index('ID').loc[LR_T]), ('LR F',binge_CTQ.set_index('ID').loc[LR_F]),\n",
    "# ('SVM lin T',binge_CTQ.set_index('ID').loc[SVM_lin_T]), ('SVM lin F',binge_CTQ.set_index('ID').loc[SVM_lin_F]),\n",
    "# ('SVM rbf T',binge_CTQ.set_index('ID').loc[SVM_rbf_T]), ('SVM rbf F',binge_CTQ.set_index('ID').loc[SVM_rbf_F])"
   ]
  },
  {
   "cell_type": "code",
   "execution_count": null,
   "metadata": {},
   "outputs": [],
   "source": [
    "# g = sns.catplot(ax = axes[1], x='Model', y='Denial sum',\n",
    "#                 hue=\"Class\", col=\"Sex\", inner=\"quartile\",\n",
    "#                 data=DF_I, kind=\"violin\", split=True, palette=\"Set2\",\n",
    "#                 height=6, aspect=1);\n",
    "\n",
    "# (g.set_axis_labels(\"\", \"Denial sum\")\n",
    "#   .set_xticklabels([\"GB\", \"LR\", \"SVM-lin\", \"SVM-rbf\"])\n",
    "#   .set_titles(\"{col_name} {col_var}\")\n",
    "#   .despine(left=True))"
   ]
  },
  {
   "cell_type": "code",
   "execution_count": null,
   "metadata": {},
   "outputs": [],
   "source": [
    "# for (S, DF2) in [('All', binge_CTQ),\n",
    "#                 ('True GB', binge_CTQ.set_index('ID').loc[GB_T, :]),\n",
    "#                 ('False GB', binge_CTQ.set_index('ID').loc[GB_F, :]),\n",
    "#                 ('True LR', binge_CTQ.set_index('ID').loc[LR_T, :]),\n",
    "#                 ('False LR', binge_CTQ.set_index('ID').loc[LR_F, :]),\n",
    "#                 ('True SVM lin', binge_CTQ.set_index('ID').loc[SVM_lin_T, :]),\n",
    "#                 ('False SVM lin', binge_CTQ.set_index('ID').loc[SVM_lin_F, :]),\n",
    "#                 ('True SVM rbf', binge_CTQ.set_index('ID').loc[SVM_rbf_T, :]),\n",
    "#                 ('False SVM rbf', binge_CTQ.set_index('ID').loc[SVM_rbf_F, :])]:\n",
    "#     columns = DF2.columns[:6]\n",
    "#     sns.set(style=\"whitegrid\", font_scale=1.5)\n",
    "    \n",
    "#     fig, axes = plt.subplots(nrows=1, ncols=len(columns)+1,\n",
    "#                              figsize=(24*len(columns), 12*1))\n",
    "#     sns.countplot(x=\"Sex\", hue='Class', order=['Male', 'Female'], data = DF2,\n",
    "#                   ax = axes[0], palette=\"Set2\").set(title=S)\n",
    "    \n",
    "#     for i, j in enumerate(columns):\n",
    "#         axes[i+1].set_title(columns[i])\n",
    "#         sns.violinplot(x=\"Sex\", y=j, data=DF2, order=['Male', 'Female'],\n",
    "#                        hue='Class', palette=\"Set2\", split=True, \n",
    "#                        inner=\"quartile\", ax = axes[i+1])\n",
    "#         add_stat_annotation(ax = axes[i+1], data=DF2, x=\"Class\", y=j,\n",
    "#                             box_pairs = [(\"HC\",\"AAM\")], order=[\"HC\",\"AAM\"],\n",
    "#                             test='t-test_ind', text_format='star', loc='inside') "
   ]
  },
  {
   "cell_type": "code",
   "execution_count": null,
   "metadata": {},
   "outputs": [],
   "source": [
    "# for (S, DF2) in [('All', binge_SURPS),\n",
    "#                 ('True GB', binge_SURPS.set_index('ID').loc[GB_T, :]),\n",
    "#                 ('False GB', binge_SURPS.set_index('ID').loc[GB_F, :]),\n",
    "#                 ('True LR', binge_SURPS.set_index('ID').loc[LR_T, :]),\n",
    "#                 ('False LR', binge_SURPS.set_index('ID').loc[LR_F, :]),\n",
    "#                 ('True SVM lin', binge_SURPS.set_index('ID').loc[SVM_lin_T, :]),\n",
    "#                 ('False SVM lin', binge_SURPS.set_index('ID').loc[SVM_lin_F, :]),\n",
    "#                 ('True SVM rbf', binge_SURPS.set_index('ID').loc[SVM_rbf_T, :]),\n",
    "#                 ('False SVM rbf', binge_SURPS.set_index('ID').loc[SVM_rbf_F, :])]:\n",
    "#     columns = DF2.columns[:4]\n",
    "    \n",
    "#     sns.set(style=\"whitegrid\", font_scale=1.5)\n",
    "#     fig, axes = plt.subplots(nrows=1, ncols=len(columns)+1,\n",
    "#                              figsize=((len(columns)+1)**2, len(columns)+1))\n",
    "#     sns.countplot(x=\"Class\", hue='Sex', order=['HC', 'AAM'], data = DF2,\n",
    "#                   ax = axes[0], palette=\"Set2\").set(title=S)\n",
    "    \n",
    "#     for i, j in enumerate(columns):\n",
    "#         axes[i+1].set_title(columns[i])\n",
    "#         sns.violinplot(x=\"Class\", y=j, data=DF2, order=['HC', 'AAM'],\n",
    "#                        inner=\"quartile\", ax = axes[i+1], palette=\"Set1\")\n",
    "#         add_stat_annotation(ax = axes[i+1], data=DF2, x=\"Class\", y=j,\n",
    "#                             box_pairs = [(\"HC\",\"AAM\")], order=[\"HC\",\"AAM\"],\n",
    "#                             test='t-test_ind', text_format='star', loc='inside') "
   ]
  }
 ],
 "metadata": {
  "kernelspec": {
   "display_name": "Python 3",
   "language": "python",
   "name": "python3"
  },
  "language_info": {
   "codemirror_mode": {
    "name": "ipython",
    "version": 3
   },
   "file_extension": ".py",
   "mimetype": "text/x-python",
   "name": "python",
   "nbconvert_exporter": "python",
   "pygments_lexer": "ipython3",
   "version": "3.8.3"
  }
 },
 "nbformat": 4,
 "nbformat_minor": 4
}
