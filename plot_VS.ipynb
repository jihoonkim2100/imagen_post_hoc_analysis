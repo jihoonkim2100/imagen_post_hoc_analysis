{
 "cells": [
  {
   "cell_type": "markdown",
   "metadata": {},
   "source": [
    "# Posthoc Analysis of IMAGEN:\n",
    "The preliminary results in our IMAGEN paper advocates for a more in-depth understanding of what contributes to the significant performance of the ML models for the three time-points: <br>\n",
    "<li>Baseline (<b>BL</b>): Age <tr> <b>14</b></li>\n",
    "<li>Follow 1 year (<b>FU1</b>): Age <b>16</b></li>\n",
    "<li>Follow 2 year (<b>FU2</b>): Age <b>19</b></li>\n",
    "<li>Follow 3 year (<b>FU3</b>): Age <b>22</b></li>\n",
    "\n",
    "<br>\n",
    "Such in-depth understanding can be achieved by performing follow-up analysis:"
   ]
  },
  {
   "cell_type": "markdown",
   "metadata": {},
   "source": [
    "1. Summary statistics\n",
    "2. Sensitivity analysis\n",
    "3. Error analysis\n",
    "4. Visualization SHAP"
   ]
  },
  {
   "cell_type": "markdown",
   "metadata": {},
   "source": [
    "# 4. Visualization SHAP\n",
    "## 4.1. SHAP values\n",
    " 1. what is the best/fastest estimator for my 4 models?\n",
    " 2. how to save and load SHAP values?\n",
    " 3. What to visualize?"
   ]
  },
  {
   "cell_type": "code",
   "execution_count": 1,
   "metadata": {},
   "outputs": [],
   "source": [
    "import h5py\n",
    "from imagen_shap_visualization import *"
   ]
  },
  {
   "cell_type": "code",
   "execution_count": 2,
   "metadata": {},
   "outputs": [],
   "source": [
    "# load the training data\n",
    "\n"
   ]
  },
  {
   "cell_type": "code",
   "execution_count": 3,
   "metadata": {},
   "outputs": [
    {
     "data": {
      "text/plain": [
       "((102, 723), 723)"
      ]
     },
     "execution_count": 3,
     "metadata": {},
     "output_type": "execute_result"
    }
   ],
   "source": [
    "# load the holdout data\n",
    "\n",
    "h5_dir = \"/ritter/share/data/IMAGEN/h5files/newholdout-fu3-espad-fu3-19a-binge-n102.h5\"\n",
    "data = h5py.File(h5_dir, 'r')\n",
    "data.keys(), data.attrs.keys()\n",
    "\n",
    "X = data['X'][()]\n",
    "# y = data[data.attrs['labels'][0]][:4]\n",
    "X_col_names = data.attrs['X_col_names']\n",
    "group_mask = data['sex'].astype(bool)[()]\n",
    "X.shape, len(X_col_names)"
   ]
  },
  {
   "cell_type": "code",
   "execution_count": null,
   "metadata": {},
   "outputs": [
    {
     "name": "stdout",
     "output_type": "stream",
     "text": [
      "skipping model GB\n",
      "skipping model LR\n",
      "generating SHAP values for model = SVM-rbf ..\n",
      "Skipping model 'SVM-rbf': 0' as it is taking too long\n",
      "Skipping model 'SVM-rbf': 1' as it is taking too long\n"
     ]
    },
    {
     "name": "stderr",
     "output_type": "stream",
     "text": [
      "Permutation explainer:  37%|███▋      | 38/102 [5:33:30<9:34:07, 538.24s/it] "
     ]
    }
   ],
   "source": [
    "MODEL = [\"SVM-RBF\"]\n",
    "to_shap(MODEL, X)"
   ]
  },
  {
   "cell_type": "code",
   "execution_count": null,
   "metadata": {},
   "outputs": [],
   "source": []
  }
 ],
 "metadata": {
  "kernelspec": {
   "display_name": "Python 3",
   "language": "python",
   "name": "python3"
  },
  "language_info": {
   "codemirror_mode": {
    "name": "ipython",
    "version": 3
   },
   "file_extension": ".py",
   "mimetype": "text/x-python",
   "name": "python",
   "nbconvert_exporter": "python",
   "pygments_lexer": "ipython3",
   "version": "3.8.3"
  }
 },
 "nbformat": 4,
 "nbformat_minor": 4
}
