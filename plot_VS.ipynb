{
 "cells": [
  {
   "cell_type": "markdown",
   "metadata": {},
   "source": [
    "# Posthoc Analysis of IMAGEN:\n",
    "The preliminary results in our IMAGEN paper advocates for a more in-depth understanding of what contributes to the significant performance of the ML models for the three time-points: <br>\n",
    "<li>Baseline (<b>BL</b>): Age <tr> <b>14</b></li>\n",
    "<li>Follow 1 year (<b>FU1</b>): Age <b>16</b></li>\n",
    "<li>Follow 2 year (<b>FU2</b>): Age <b>19</b></li>\n",
    "<li>Follow 3 year (<b>FU3</b>): Age <b>22</b></li>\n",
    "\n",
    "<br>\n",
    "Such in-depth understanding can be achieved by performing follow-up analysis:"
   ]
  },
  {
   "cell_type": "markdown",
   "metadata": {},
   "source": [
    "1. Summary statistics\n",
    "2. Sensitivity analysis\n",
    "3. Error analysis\n",
    "4. Visualization SHAP"
   ]
  },
  {
   "cell_type": "markdown",
   "metadata": {},
   "source": [
    "# 4. Visualization SHAP\n",
    "## 4.1. SHAP values\n",
    " 1. what is the best/fastest estimator for my 4 models?\n",
    " 2. how to save and load SHAP values?\n",
    " 3. What to visualize?"
   ]
  },
  {
   "cell_type": "code",
   "execution_count": 1,
   "metadata": {},
   "outputs": [],
   "source": [
    "import h5py\n",
    "from imagen_shap_visualization import *"
   ]
  },
  {
   "cell_type": "code",
   "execution_count": null,
   "metadata": {},
   "outputs": [],
   "source": [
    "# load the training data\n",
    "\n"
   ]
  },
  {
   "cell_type": "code",
   "execution_count": 2,
   "metadata": {},
   "outputs": [
    {
     "data": {
      "text/plain": [
       "((102, 723), 723)"
      ]
     },
     "execution_count": 2,
     "metadata": {},
     "output_type": "execute_result"
    }
   ],
   "source": [
    "# load the holdout data\n",
    "\n",
    "h5_dir = \"/ritter/share/data/IMAGEN/h5files/newholdout-fu3-espad-fu3-19a-binge-n102.h5\"\n",
    "data = h5py.File(h5_dir, 'r')\n",
    "data.keys(), data.attrs.keys()\n",
    "\n",
    "X = data['X'][()]\n",
    "# y = data[data.attrs['labels'][0]][:4]\n",
    "X_col_names = data.attrs['X_col_names']\n",
    "group_mask = data['sex'].astype(bool)[()]\n",
    "X.shape, len(X_col_names)"
   ]
  },
  {
   "cell_type": "code",
   "execution_count": null,
   "metadata": {},
   "outputs": [
    {
     "name": "stdout",
     "output_type": "stream",
     "text": [
      "skipping model GB\n",
      "skipping model LR\n",
      "skipping model SVM-lin\n",
      "generating SHAP values for model = SVM-rbf ..\n"
     ]
    },
    {
     "name": "stderr",
     "output_type": "stream",
     "text": [
      "Permutation explainer: 103it [12:11:37, 426.19s/it]                          \n",
      "Permutation explainer:   4%|▍         | 4/102 [27:01<9:38:28, 354.17s/it]"
     ]
    }
   ],
   "source": [
    "MODEL = [\"SVM-RBF\"]\n",
    "to_shap(MODEL, X)"
   ]
  },
  {
   "cell_type": "code",
   "execution_count": null,
   "metadata": {},
   "outputs": [],
   "source": [
    "with open('explainers/SVM-rbf0_shap.sav', 'rb') as fp:\n",
    "    load_shap_values = pickle.load(fp)\n",
    "if not os.path.isdir(\"figures\"):\n",
    "    os.makedirs(\"figures\")"
   ]
  },
  {
   "cell_type": "code",
   "execution_count": null,
   "metadata": {},
   "outputs": [],
   "source": [
    "# plot\n",
    "for i in [0]:\n",
    "    # 1. summary bar plot of feature importnace\n",
    "    shap.summary_plot(load_shap_values, features=X, feature_names=X_col_names, plot_type=\"bar\", show=False)\n",
    "    plt.title(model_name+\": \"+str(i))\n",
    "    plt.savefig(f\"figures/SVM-rbf{i}_bar.pdf\", bbox_inches='tight')\n",
    "    \n",
    "    # 2. swarm plot showing shap values vs feature values ordered by feature importance\n",
    "    shap.summary_plot(load_shap_values, features=X, feature_names=X_col_names, plot_type=\"dot\", show=False)\n",
    "    plt.title(model_name+\": \"+str(i))\n",
    "    # plt.savefig(\"figures/{}_swarm.pdf\".format(model_name+str(i)), bbox_inches='tight')\n",
    "    plt.savefig(f\"figures/SVM-rbf{i}_swarm.pdf\", bbox_inches='tight')"
   ]
  },
  {
   "cell_type": "code",
   "execution_count": null,
   "metadata": {},
   "outputs": [],
   "source": []
  },
  {
   "cell_type": "code",
   "execution_count": null,
   "metadata": {},
   "outputs": [],
   "source": [
    "# 1. summary bar plot of feature importnace\n",
    "shap.summary_plot(load_shap_values, features=X, feature_names=X_col_names, plot_type=\"bar\", show=False)\n",
    "plt.title(model_name+\": \"+str(i))\n",
    "plt.savefig(\"figures/SVM-rbf0_bar.pdf\", bbox_inches='tight')"
   ]
  },
  {
   "cell_type": "code",
   "execution_count": null,
   "metadata": {},
   "outputs": [],
   "source": [
    "# 2. swarm plot showing shap values vs feature values ordered by feature importance\n",
    "shap.summary_plot(load_shap_values, features=X, feature_names=X_col_names, plot_type=\"dot\", show=False)\n",
    "plt.title(model_name+\": \"+str(i))\n",
    "# plt.savefig(\"figures/{}_swarm.pdf\".format(model_name+str(i)), bbox_inches='tight')\n",
    "plt.savefig(\"figures/SVM-rbf0_swarm.pdf\", bbox_inches='tight')"
   ]
  },
  {
   "cell_type": "code",
   "execution_count": null,
   "metadata": {},
   "outputs": [],
   "source": [
    "shap.group_difference_plot(load_shap_values, group_mask=group_mask,feature_names=X_col_names, show=False)\n",
    "plt.title(model_name+\":\"+str(i))\n",
    "# plt.savefig(\"figrues/{}_bar-sexdiff.pdf\".format(model_name+str(i)), bbox_inches='tight')\n",
    "plt.savefig(\"figures/SVM-rbf0_bar-sexdiff.pdf\", bbox_inches='tight')"
   ]
  }
 ],
 "metadata": {
  "kernelspec": {
   "display_name": "Python 3",
   "language": "python",
   "name": "python3"
  },
  "language_info": {
   "codemirror_mode": {
    "name": "ipython",
    "version": 3
   },
   "file_extension": ".py",
   "mimetype": "text/x-python",
   "name": "python",
   "nbconvert_exporter": "python",
   "pygments_lexer": "ipython3",
   "version": "3.8.3"
  }
 },
 "nbformat": 4,
 "nbformat_minor": 4
}
